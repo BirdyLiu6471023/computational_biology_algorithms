{
 "cells": [
  {
   "cell_type": "markdown",
   "metadata": {},
   "source": [
    "# Lab 04 Alignment\n",
    "For Lab 04 | Alignment you will write a program that performs Needleman-Wunsch alignment on two sequences.  \n",
    "\n",
    "\n",
    "## Assignment\n",
    "Follow the instructions in this document and answer the questions in the cell below each question. Submit your answers by uploading a PDF file to gradescope. To generate the pdf, first export the notebook as HTML: >File, >Export to ..., >HTML. Then, open the HTML in a browser and use your browser to print to PDF.\n",
    "\n",
    "Check to make sure all your cells have been run and the **results** displayed in the PDF file. Gradescope only accepts PDF. \n",
    "\n",
    "Reminder, provide comments for any code you write to ensure partial credit."
   ]
  },
  {
   "cell_type": "markdown",
   "metadata": {},
   "source": [
    "# Introduction\n",
    "\n",
    "The Needleman–Wunsch algorithm was developed to align protein or nucleotide sequences using dynamic programming. By dividing a large problem (i.e. all possible alignments) into a series of smaller problems (i.e. whether it is best to extend an alignment with a gap or mismatch), it uses the solutions to the smaller problems to find an optimal solution to the larger problem. The algorithm assigns a score to every possible extension to an alignment, and the purpose of the algorithm is to find the overall best scoring alignment.\n",
    "\n",
    "## Scoring an alignment\n",
    "In an alignment, positions are scored according to whether there is a **match**, **mismatch** or **gap** in one of the sequences.\n",
    "\n",
    "Thus, given an alignment and scoring match = 1, mismatch = -1, and gap = -1, the alignment would have a score of:  \n",
    "`GCATG-CA`  \n",
    "`G-ATTACA`  \n",
    "`+-++--++`\n",
    "where the plus and minus below the alignment indicates +1 or -1 scores at those positions.\n",
    "\n",
    "The total score is the sum of all positions = +5 -3 = 2"
   ]
  },
  {
   "cell_type": "markdown",
   "metadata": {},
   "source": [
    "# <font color=red> Question 1 </font> \n",
    "Write a function that takes a match, mismatch and gap score, as well as two aligned sequences as input, and returns their alignment score.  \n",
    "\n",
    "Apply your function to and print the score for the two sequences (seqa, seqb) as well as for the two sequences in AQY2.fasta.    \n",
    "\n",
    "(5 points)"
   ]
  },
  {
   "cell_type": "code",
   "execution_count": 16,
   "metadata": {},
   "outputs": [
    {
     "name": "stdout",
     "output_type": "stream",
     "text": [
      "0\n"
     ]
    }
   ],
   "source": [
    "match_score = 2\n",
    "mismatch_score = -3\n",
    "gap_score = -5\n",
    "\n",
    "seqa=\"CGTATGCTAGC\"\n",
    "seqb=\"CTTAA-CTAGC\"\n",
    "\n",
    "# Answer\n",
    "def score_alignment(s1, s2, match, mismatch, gap):\n",
    "    score = 0\n",
    "    \n",
    "    return (score)\n",
    "\n",
    "print( score_alignment(seqa, seqb, match_score, mismatch_score, gap_score))\n",
    "\n",
    "# Read in fasta file into seq1 and seq2\n",
    "filename = 'AQY2.fasta'\n",
    "\n"
   ]
  },
  {
   "cell_type": "markdown",
   "metadata": {},
   "source": [
    "# Dot plots\n",
    "\n",
    "Before constructing an alignment, lets first implement a dotplot matrix of two sequencies. This will help illustrate how to store the scoring matrix needed for Needleman-Wunsch.  \n",
    "\n",
    "Lets define a function that takes two sequences as input, and outputs a matrix with `1` indicating all the matching positions and `0` indicate non-matching positions.  "
   ]
  },
  {
   "cell_type": "code",
   "execution_count": 17,
   "metadata": {},
   "outputs": [
    {
     "name": "stdout",
     "output_type": "stream",
     "text": [
      "  CAGTTTT\n",
      "C 1000000\n",
      "A 0100000\n",
      "G 0010000\n",
      "T 0001111\n",
      "T 0001111\n",
      "T 0001111\n",
      "C 1000000\n"
     ]
    }
   ],
   "source": [
    "def dotplot(seqa, seqb):\n",
    "    # First initialize a matrix according to lengths of seqa and seqb\n",
    "    n = len(seqa)\n",
    "    m = len(seqb)\n",
    "    # Make an array (list) of zeros according to length of seqa\n",
    "    mat = [0] * n\n",
    "    # For each element in the list, fill in zeros of length seqb\n",
    "    for i in range(n):\n",
    "        mat[i] = [0] * m\n",
    "    # Print space with sequence b on the top\n",
    "    print(\"  \" + seqb)\n",
    "    # For each row and each column, enter 1 for match and 0 for mismatch\n",
    "    for row in range(n):\n",
    "        # Print sequence a with space and without new line\n",
    "        print(seqa[row]+ \" \",end=\"\")\n",
    "        for col in range(m):\n",
    "            if (seqa[row] == seqb[col]):\n",
    "                mat[row][col] = 1\n",
    "            else:\n",
    "                mat[row][col] = 0\n",
    "            # Print the elements without a new line\n",
    "            print(mat[row][col],end=\"\")\n",
    "        # To get a new line print empty string\n",
    "        print(\"\")\n",
    "    return(mat)\n",
    "\n",
    "m = dotplot(\"CAGTTTC\",\"CAGTTTT\")\n",
    "\n",
    "# Function to plot the matrix with equal spaces for visualization\n",
    "def plotmatrix(m):\n",
    "    for i in range(len(m)):\n",
    "        for j in range(len(m[0])):\n",
    "            print('%3s' % m[i][j],end=\" \")\n",
    "        print(\"\")\n"
   ]
  },
  {
   "cell_type": "markdown",
   "metadata": {},
   "source": [
    "# Scoring matrix\n",
    "\n",
    "To fill in a scoring matrix using Needleman-Wunsch we can follow the following pseudocode from wikipedia:\n",
    "\n",
    "<img src=\"images/pseudo_code.png\">\n",
    "\n",
    "\n",
    "Here, d is the gap penalty and S(Ai, Bj) should be a match score if Ai and Bj match, and a mismatch score if Ai and Bj do not match."
   ]
  },
  {
   "cell_type": "markdown",
   "metadata": {},
   "source": [
    "## Scoring the matrix\n",
    "\n",
    "Scoring the full matrix is a matter of filling in the matrix using `S(i,j)` as described in lecture.  \n",
    "<img src=\"images/scoring.png\">\n",
    "\n",
    "However, encoding this can be a tricky unless you keep track of i vs j, n vs m, seqa vs seqb. It can help to have a diagram such as this:\n",
    "\n",
    "\n",
    "<img src=\"images/matrix.png\">\n",
    "\n",
    "\n"
   ]
  },
  {
   "cell_type": "markdown",
   "metadata": {},
   "source": [
    "# <font color=red> Question 2 </font> \n",
    "Write a function that takes a match, mismatch and gap score, as well as two ungapped sequences as input and returns a Needleman-Wunsch scoring matrix with **all** the positions filled in. Use the function to obtain a scoring matrix for the two sequences and print the matrix. Hint: it may be easier to first initialize the matrix with first row and column of gap scores, then fill out the rest of the matrix.  \n",
    "\n",
    "The `max()` function will return the maximum value from a list of values. For example `max(1,7,3)` will return 7.  \n",
    "For help understanding the `max()` function see Python documentation: https://docs.python.org/3/library/functions.html#max\n",
    "\n",
    "(5 points)\n"
   ]
  },
  {
   "cell_type": "code",
   "execution_count": 18,
   "metadata": {},
   "outputs": [
    {
     "name": "stdout",
     "output_type": "stream",
     "text": [
      "  0   0   0   0   0   0   0   0   0   0   0   0   0   0   0   0   0 \n",
      "  0   0   0   0   0   0   0   0   0   0   0   0   0   0   0   0   0 \n",
      "  0   0   0   0   0   0   0   0   0   0   0   0   0   0   0   0   0 \n",
      "  0   0   0   0   0   0   0   0   0   0   0   0   0   0   0   0   0 \n",
      "  0   0   0   0   0   0   0   0   0   0   0   0   0   0   0   0   0 \n",
      "  0   0   0   0   0   0   0   0   0   0   0   0   0   0   0   0   0 \n",
      "  0   0   0   0   0   0   0   0   0   0   0   0   0   0   0   0   0 \n",
      "  0   0   0   0   0   0   0   0   0   0   0   0   0   0   0   0   0 \n",
      "  0   0   0   0   0   0   0   0   0   0   0   0   0   0   0   0   0 \n",
      "  0   0   0   0   0   0   0   0   0   0   0   0   0   0   0   0   0 \n",
      "  0   0   0   0   0   0   0   0   0   0   0   0   0   0   0   0   0 \n",
      "  0   0   0   0   0   0   0   0   0   0   0   0   0   0   0   0   0 \n",
      "  0   0   0   0   0   0   0   0   0   0   0   0   0   0   0   0   0 \n",
      "  0   0   0   0   0   0   0   0   0   0   0   0   0   0   0   0   0 \n",
      "  0   0   0   0   0   0   0   0   0   0   0   0   0   0   0   0   0 \n",
      "  0   0   0   0   0   0   0   0   0   0   0   0   0   0   0   0   0 \n",
      "  0   0   0   0   0   0   0   0   0   0   0   0   0   0   0   0   0 \n",
      "  0   0   0   0   0   0   0   0   0   0   0   0   0   0   0   0   0 \n",
      "  0   0   0   0   0   0   0   0   0   0   0   0   0   0   0   0   0 \n",
      "  0   0   0   0   0   0   0   0   0   0   0   0   0   0   0   0   0 \n"
     ]
    }
   ],
   "source": [
    "# Make a score matrix with these two sequences\n",
    "seqa = \"CGTATGCTAGCTTATTTGC\"\n",
    "seqb = \"TAACTAGCGATTGCGC\"\n",
    "# And these match, mismatch and gap penalties\n",
    "match = 1\n",
    "mismatch = -1\n",
    "gap = -2\n",
    "\n",
    "# Answer\n",
    "\n",
    "\n",
    "def needleman_wunsch_full(seqa, seqb, match, mismatch, gap):\n",
    "    # length of two sequences\n",
    "    n = len(seqa)\n",
    "    m = len(seqb) \n",
    "    # Initialize scoring matrix with zeros and gap scores for first row and column\n",
    "    score = [0] * (n+1)\n",
    "    for i in range(n+1):\n",
    "        score[i] = [0] * (m+1)\n",
    "    \n",
    "    return score\n",
    "\n",
    "s = needleman_wunsch_full(seqa, seqb, match, mismatch, gap)\n",
    "\n",
    "plotmatrix(s)\n"
   ]
  },
  {
   "cell_type": "markdown",
   "metadata": {},
   "source": [
    "# <font color=red> Question 3 </font> \n",
    "Write a function that takes a match, mismatch and gap score, as well as two ungapped sequences as input and returns two strings of the aligned sequences. Apply your function to the two sequences provided and print the aligned sequences, one sequence per line. Finally, calculate the score of your alignment using the match, mismatch and gap penalty provided.    \n",
    "\n",
    "Not necessary to get the answer, but a suggestion:  \n",
    "- after filling out the scoring matrix, start at the lower right (position score[n,m]) with i and j keeping track of your position\n",
    "- use a while loop: `while i > 0 and j > 0` and update i and j depending on the best move\n",
    "- append gaps or nucleotides to two strings that store your alignment\n",
    "- if you need to reverse a string use: reverse_string = string[::-1]  \n",
    "\n",
    "Note that thare are multiple **best** alignments, but you only need to find one. You can check your results here: http://rna.informatik.uni-freiburg.de/Teaching/index.jsp?toolName=Needleman-Wunsch  \n",
    "\n",
    "\n",
    "\n",
    "(5 points)"
   ]
  },
  {
   "cell_type": "code",
   "execution_count": 19,
   "metadata": {},
   "outputs": [],
   "source": [
    "# Answer\n",
    "\n",
    "# Make a score matrix with these two sequences\n",
    "seqa = \"CGTATGCTAGCTTATTTGC\"\n",
    "seqb = \"TAACTAGCGATTGCGC\"\n",
    "# And these match, mismatch and gap scores\n",
    "match = 1\n",
    "mismatch = -1\n",
    "gap = -2\n",
    "\n"
   ]
  },
  {
   "cell_type": "markdown",
   "metadata": {},
   "source": [
    "# <font color=red> Question 4 </font> \n",
    "Find the score of all pairwise alignments of sequences in the provided file and the match, mismatch and gap scores. The sequences are already aligned to one another. Print the names of the aligned sequences and their alignment score, sorted with the highest scoring alignment first.  \n",
    "\n",
    " \n",
    "\n",
    "(5 points)"
   ]
  },
  {
   "cell_type": "code",
   "execution_count": 20,
   "metadata": {},
   "outputs": [],
   "source": [
    "filename = 'SSA.fasta'\n",
    "match = 1\n",
    "mismatch = -1\n",
    "gap = -1\n",
    "\n",
    "# Answer"
   ]
  },
  {
   "cell_type": "markdown",
   "metadata": {},
   "source": [
    "# <font color=red> Bonus Question </font>  \n",
    "Write a function that takes a match, mismatch, gap open and gep extension score, as well as two aligned sequences as input, and returns their alignment score.  \n",
    "\n",
    "Apply your function to and print the score for the two sequences in AQY2.fasta.    \n",
    "\n",
    "\n",
    "(2 points)"
   ]
  },
  {
   "cell_type": "code",
   "execution_count": 21,
   "metadata": {},
   "outputs": [],
   "source": [
    "match = 2\n",
    "mismatch = -3\n",
    "gapopen = -5\n",
    "gapextension = -1\n",
    "\n",
    "\n",
    "# Answer\n"
   ]
  },
  {
   "cell_type": "code",
   "execution_count": null,
   "metadata": {},
   "outputs": [],
   "source": []
  }
 ],
 "metadata": {
  "kernelspec": {
   "display_name": "Python 3",
   "language": "python",
   "name": "python3"
  },
  "language_info": {
   "codemirror_mode": {
    "name": "ipython",
    "version": 3
   },
   "file_extension": ".py",
   "mimetype": "text/x-python",
   "name": "python",
   "nbconvert_exporter": "python",
   "pygments_lexer": "ipython3",
   "version": "3.6.7"
  }
 },
 "nbformat": 4,
 "nbformat_minor": 4
}
