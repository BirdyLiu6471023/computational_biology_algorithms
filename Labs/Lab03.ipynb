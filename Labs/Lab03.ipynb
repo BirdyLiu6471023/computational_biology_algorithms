{
 "cells": [
  {
   "cell_type": "markdown",
   "metadata": {},
   "source": [
    "# Lab 03 String Search\n",
    "For Lab 03 | String Search you will use different algorithms to search for a short DNA sequence (query) in a longer sequence. To complete the assignment read through the introductory material about Python and suffix arrays and answer the questions in this document. \n",
    "\n",
    "## Assignment\n",
    "Follow the instructions in this document and answer the questions in the cell below each question. Submit your answers by uploading to gradescope: a pdf file <font color=blue> Lab03.NETID.pdf </font> where NETID is your NETID. To generate the pdf, first export the notebook as HTML: >Notebook, >Export to ..., >HTML. Then, open the HTML in a browser and use your browser to print to PDF.\n",
    "\n",
    "Check to make sure all your cells have been run and the **results** displayed in the PDF file. Gradescope only accepts PDF. \n",
    "\n",
    "Reminder, provide comments for any code you write to ensure partial credit."
   ]
  },
  {
   "cell_type": "markdown",
   "metadata": {},
   "source": [
    "## Python functions\n",
    "\n",
    "Python has a number of builtin functions that are always available. A list of them is here: https://docs.python.org/3.7/library/functions.html  \n",
    "\n",
    "Relevant to Lab03: len(), range(), sorted(), and list.sort()\n",
    "\n",
    "### **len()**\n",
    "\n",
    "Any kind of Python type that has length, can be passed into this function. The return is always an integer indicating the length of the variable.\n"
   ]
  },
  {
   "cell_type": "code",
   "execution_count": 1,
   "metadata": {},
   "outputs": [
    {
     "name": "stdout",
     "output_type": "stream",
     "text": [
      "3\n",
      "4\n",
      "12\n"
     ]
    }
   ],
   "source": [
    "x = { 1 : 'one', 2 : 'two', 3 : 'three' }\n",
    "print( len( x ) )\n",
    "\n",
    "y = [ 5, 8, 12, 24 ]\n",
    "print( len( y ) )\n",
    "\n",
    "z = 'Hello world!'\n",
    "print( len( z ) )"
   ]
  },
  {
   "cell_type": "markdown",
   "metadata": {},
   "source": [
    "### **range()**\n",
    "\n",
    "This is not actually a function but a data type, like a string or list, that includes the start, stop and step size of a range of integer values. Input can be either:  \n",
    "range( stop )  # assumes start = 0  \n",
    "range( start, stop )  # assumes step = 1  \n",
    "range( start, stop, step )  \n",
    "and it returns a range which is iterable in a for loop, but can also be converted to a list, see below.\n"
   ]
  },
  {
   "cell_type": "code",
   "execution_count": 2,
   "metadata": {},
   "outputs": [
    {
     "name": "stdout",
     "output_type": "stream",
     "text": [
      "[0, 1, 2, 3]\n"
     ]
    }
   ],
   "source": [
    "print( list( range(4) ) )"
   ]
  },
  {
   "cell_type": "code",
   "execution_count": 3,
   "metadata": {},
   "outputs": [
    {
     "data": {
      "text/plain": [
       "[5, 6, 7, 8, 9]"
      ]
     },
     "execution_count": 3,
     "metadata": {},
     "output_type": "execute_result"
    }
   ],
   "source": [
    "list( range( 5, 10 ) )"
   ]
  },
  {
   "cell_type": "code",
   "execution_count": 4,
   "metadata": {},
   "outputs": [
    {
     "data": {
      "text/plain": [
       "[0, 2, 4, 6, 8]"
      ]
     },
     "execution_count": 4,
     "metadata": {},
     "output_type": "execute_result"
    }
   ],
   "source": [
    "list( range( 0, 10, 2 ) ) "
   ]
  },
  {
   "cell_type": "code",
   "execution_count": 5,
   "metadata": {},
   "outputs": [
    {
     "name": "stdout",
     "output_type": "stream",
     "text": [
      "2\n",
      "4\n",
      "6\n"
     ]
    }
   ],
   "source": [
    "for i in range(2,8,2):\n",
    "    print(i)"
   ]
  },
  {
   "cell_type": "markdown",
   "metadata": {},
   "source": [
    "### **sorted()** and **list.sort()**\n",
    "\n",
    "sorted(iterable, key=None, reverse=False) will return a new sorted list from the items in iterable. The key specifies a function of one argument that is used to extract a comparison key from each element in iterable (for example, key=str.lower). Reverse is a boolean value. If set to True, then the list elements are sorted as if each comparison were reversed.  "
   ]
  },
  {
   "cell_type": "code",
   "execution_count": 6,
   "metadata": {},
   "outputs": [
    {
     "name": "stdout",
     "output_type": "stream",
     "text": [
      "['1', '10', '2', '4', '6', '7']\n"
     ]
    }
   ],
   "source": [
    "x = [ '10', '4', '6', '7', '2', '1'] \n",
    "print( sorted(x) )"
   ]
  },
  {
   "cell_type": "code",
   "execution_count": 7,
   "metadata": {},
   "outputs": [
    {
     "name": "stdout",
     "output_type": "stream",
     "text": [
      "[1, 2, 4, 6, 7, 10]\n"
     ]
    }
   ],
   "source": [
    "x = [ 10, 4, 6, 7, 2, 1] \n",
    "print( sorted(x) )"
   ]
  },
  {
   "cell_type": "code",
   "execution_count": 8,
   "metadata": {},
   "outputs": [
    {
     "name": "stdout",
     "output_type": "stream",
     "text": [
      "[1, 10, 2, 4, 6, 7, 'ABC', 'abc']\n"
     ]
    }
   ],
   "source": [
    "x = [ 10, 4, 6, 7, 2, 1, 'abc', 'ABC'] \n",
    "print( sorted(x, key=str) )"
   ]
  },
  {
   "cell_type": "markdown",
   "metadata": {},
   "source": [
    "Here, we need to use a str key to convert numbers to strings prior to sort since numbers can't be compared to strings. Also note that 'ABC' is before 'abc'. This is because sorted() uses the Unicode integer representations of the string, and sorts the integers.  \n",
    "\n",
    "When you sort a string, the characters are sorted using the Unicode integers and the order of these integers is listed below. Thus, 'A' comes before 'a'. And similarly 'A' < 'a' "
   ]
  },
  {
   "cell_type": "code",
   "execution_count": 9,
   "metadata": {},
   "outputs": [
    {
     "name": "stdout",
     "output_type": "stream",
     "text": [
      " !\"#$%&'()*+,-./0123456789:;<=>?@ABCDEFGHIJKLMNOPQRSTUVWXYZ[\\]^_`abcdefghijklmnopqrstuvwxyz{|}~\n"
     ]
    },
    {
     "data": {
      "text/plain": [
       "True"
      ]
     },
     "execution_count": 9,
     "metadata": {},
     "output_type": "execute_result"
    }
   ],
   "source": [
    "str = ''\n",
    "for i in range(32,127):\n",
    "    str += chr(i)\n",
    "print( str )\n",
    "'A' < 'a'"
   ]
  },
  {
   "cell_type": "markdown",
   "metadata": {},
   "source": [
    "If you wish to sort a list in-place without returning a new list, you can use the list.sort() method. However, the list.sort() method is only defined for lists. In contrast, the sorted() function accepts any iterable."
   ]
  },
  {
   "cell_type": "code",
   "execution_count": 10,
   "metadata": {},
   "outputs": [
    {
     "name": "stdout",
     "output_type": "stream",
     "text": [
      "['1', '10', '2', '4', '6', '7']\n"
     ]
    }
   ],
   "source": [
    "x = [ '10', '4', '6', '7', '2', '1'] \n",
    "x.sort()\n",
    "print( x )"
   ]
  },
  {
   "cell_type": "markdown",
   "metadata": {},
   "source": [
    "Why is 10 before 2? Objects may be compared to other objects with the same sequence type. The comparison uses lexicographical ordering: first the first two items are compared, and if they differ this determines the outcome of the comparison; if they are equal, the next two items are compared, and so on, until either sequence is exhausted. If all items of two sequences compare equal, the sequences are considered equal. If one sequence is an initial sub-sequence of the other, the shorter sequence is the smaller (lesser) one. Lexicographical ordering for strings uses the Unicode code integer to order individual characters.  \n",
    "\n",
    "Thus, '10' < '2' because '1' < '2'.  \n",
    "\n",
    "Comparisons can be done for strings, or for lists:"
   ]
  },
  {
   "cell_type": "code",
   "execution_count": 11,
   "metadata": {},
   "outputs": [
    {
     "data": {
      "text/plain": [
       "True"
      ]
     },
     "execution_count": 11,
     "metadata": {},
     "output_type": "execute_result"
    }
   ],
   "source": [
    "'GATC' == 'GATC'"
   ]
  },
  {
   "cell_type": "code",
   "execution_count": 12,
   "metadata": {},
   "outputs": [
    {
     "data": {
      "text/plain": [
       "True"
      ]
     },
     "execution_count": 12,
     "metadata": {},
     "output_type": "execute_result"
    }
   ],
   "source": [
    "'GAT' < 'GATC'"
   ]
  },
  {
   "cell_type": "code",
   "execution_count": 13,
   "metadata": {},
   "outputs": [
    {
     "data": {
      "text/plain": [
       "True"
      ]
     },
     "execution_count": 13,
     "metadata": {},
     "output_type": "execute_result"
    }
   ],
   "source": [
    "[1, 2, 3] < [1, 2, 4]"
   ]
  },
  {
   "cell_type": "markdown",
   "metadata": {},
   "source": [
    "### A word of warning on scope\n",
    "\n",
    "Don't use variable names that are already functions, methods or other keywords in Python. Keywords are highlighted by color in the code cells.  \n",
    "\n",
    "If you assign a list to a variable named 'list' it will conflict with the list class:  \n",
    "`list = ['a', 'b', 'c']`  \n",
    "or assign a string to a variable names 'print' it will conflict with the print function:  \n",
    "`print = 'a string'`  \n",
    "Python is going to give you're variable names local scope, but you will lose their global scope of the *list* class and *print* function."
   ]
  },
  {
   "cell_type": "markdown",
   "metadata": {},
   "source": [
    "# String search\n",
    "\n",
    "For this lab, we will use different data structures and search methods to find a shorter DNA sequence (substring) within a longer one (string). We will use *strings*, *dictionaries* and a suffix array to represent DNA sequences. In bioinformatics substrings are often referred to as kmers, where k is a fixed length. They can also be referred to as words, typically implying that they can have different lengths. The type of data structure and algorithm depends on whether you're looking for a fixed or variable length substring."
   ]
  },
  {
   "cell_type": "markdown",
   "metadata": {},
   "source": [
    "## Strings\n",
    "\n",
    "One reason strings make a great data structure for DNA is our ability to use substring and take sections of a string easily using the character indexes.  \n",
    "\n",
    "Here is an example of obtaining substrings with Python:"
   ]
  },
  {
   "cell_type": "code",
   "execution_count": 14,
   "metadata": {},
   "outputs": [
    {
     "name": "stdout",
     "output_type": "stream",
     "text": [
      "GTT\n",
      "ATCGTT\n",
      "ATCG\n",
      "TCAG\n"
     ]
    }
   ],
   "source": [
    "sequence = 'ATCGTTCAG'\n",
    "print( sequence[3:6] )\n",
    "print( sequence[0:6] )\n",
    "print( sequence[:4] )\n",
    "print( sequence[5:] )"
   ]
  },
  {
   "cell_type": "markdown",
   "metadata": {},
   "source": [
    "## Lists \n",
    "\n",
    "Lists have a number of built in methods that can be applied to them. One of these is sort(), but there are a few others that you may find useful.\n",
    "\n",
    "If 's' is you list:  \n",
    "`s.append(x)` appends x to the end of the sequence  \n",
    "`s.insert(i, x)` inserts x into s at the index given by i  \n",
    "`s.pop([i])` retrieves the item at i and also removes it from s  \n",
    "`s.reverse()` reverse the order of the list  "
   ]
  },
  {
   "cell_type": "code",
   "execution_count": 15,
   "metadata": {},
   "outputs": [
    {
     "name": "stdout",
     "output_type": "stream",
     "text": [
      "['G', 'A', 'C', 'T', 'T', 'G', 'C', 'T', 'A']\n"
     ]
    }
   ],
   "source": [
    "s = list( sequence )\n",
    "s.reverse()\n",
    "print( s )"
   ]
  },
  {
   "cell_type": "markdown",
   "metadata": {},
   "source": [
    "## Linear string search\n",
    "A simple search algorithm is to start at the first index of an array and move through every position in the array asking at each step whether there is a match to a substring of interest. This gives us a compute time of O(n-m), where n is the length of the string and m is the length of the substring. This approach is essentially a sliding window of substring comparisons. Thus, given a substring 'ATG', we ask each each position whether we see the 'ATG' substring.  \n",
    "<img src=\"images/substring.png\" >  "
   ]
  },
  {
   "cell_type": "markdown",
   "metadata": {},
   "source": [
    "# <font color=red> Question 1 </font>\n",
    "Write a function in Python that takes two strings of DNA sequence (say string1 and string2) as input and returns a list of the position(s) where string2 is present as a substring of string1. If there are no positions an empty list should be returned. When printing positions use 1 as the first position, rather than the 0 used by Python. The output using the above string/substring should be [3, 7]. Print the output of your function to search for the three words below. \n",
    "\n",
    "(3 points)"
   ]
  },
  {
   "cell_type": "code",
   "execution_count": 31,
   "metadata": {},
   "outputs": [
    {
     "name": "stdout",
     "output_type": "stream",
     "text": [
      "[]\n",
      "[]\n",
      "[]\n"
     ]
    }
   ],
   "source": [
    "# Insert your code for Question 1 below\n",
    "seq = 'CGTATACTAAAACGGACGTTACGATATTGTCTCACTTCATCTTACCACCCTCTATCTTATTGCTGATAGAACACTAACCCCTCAGCTTTATTTCTAGTTACAGTTACACAAAAAACTATGCCAACCCAGAAATCTTGATATTTTACGTGTCAAAAAATGAGGGTCTCTAAATGAGAGTTTGGTACCATGACTTGTAACTCGCACTGCCCTGATCTGCAATCTTGTTCTTAGAAGTGACGCATATTCTATACGGCCCGACGCGACGCGCCAAAAAATGAAAAACGAAGCAGCGACTCATTT'\n",
    "def linear(seq, sub):\n",
    "    positions = []\n",
    "    \n",
    "    return( positions )\n",
    "print( linear( seq,'ATG') )\n",
    "print( linear( seq,'CAT') )\n",
    "print( linear( seq,'TAGG') )"
   ]
  },
  {
   "cell_type": "markdown",
   "metadata": {},
   "source": [
    "## Dictionaries\n",
    "\n",
    "Dictionaries contain *key-value* pairs and are sometimes called “associative arrays”. They have the requirement that the keys are unique (within one dictionary). Unlike lists, which are indexed by a range of numbers, dictionaries are indexed by keys and are unordered. \n",
    "\n",
    "### Membership test\n",
    "The operators `in` and `not in` test for membership in dictionaries as well as lists.  \n",
    "\n"
   ]
  },
  {
   "cell_type": "code",
   "execution_count": 17,
   "metadata": {},
   "outputs": [
    {
     "name": "stdout",
     "output_type": "stream",
     "text": [
      "3\n"
     ]
    },
    {
     "data": {
      "text/plain": [
       "False"
      ]
     },
     "execution_count": 17,
     "metadata": {},
     "output_type": "execute_result"
    }
   ],
   "source": [
    "bases = { 'A': 3, 'G': 0, 'C': 1, 'T': 12 }\n",
    "print( bases['A'] )\n",
    "'N' in bases \n"
   ]
  },
  {
   "cell_type": "code",
   "execution_count": 18,
   "metadata": {},
   "outputs": [
    {
     "name": "stdout",
     "output_type": "stream",
     "text": [
      "44\n"
     ]
    },
    {
     "data": {
      "text/plain": [
       "False"
      ]
     },
     "execution_count": 18,
     "metadata": {},
     "output_type": "execute_result"
    }
   ],
   "source": [
    "bases = [12,5,6,44]\n",
    "print( bases[3])\n",
    "5 not in bases"
   ]
  },
  {
   "cell_type": "markdown",
   "metadata": {},
   "source": [
    "### Methods and functions\n",
    "There are a number of methods associated with dictionaries that facilitate their use.\n",
    "\n",
    "`items()` returns a new view of the dictionary’s items ((key, value) pairs. When looping through dictionaries, the key and corresponding value can be retrieved at the same time using the items() method.  \n",
    "`keys()` returns a new view of the dictionary’s keys.  \n",
    "`values()` returns a new view of the dictionary's values.  \n",
    "`get(key)` Return the value for key if key is in the dictionary, else default. If default is not given, it defaults to None."
   ]
  },
  {
   "cell_type": "code",
   "execution_count": 19,
   "metadata": {},
   "outputs": [
    {
     "name": "stdout",
     "output_type": "stream",
     "text": [
      "A 3\n",
      "G 0\n",
      "C 1\n",
      "T 12\n",
      "dict_keys(['A', 'G', 'C', 'T'])\n",
      "dict_values([3, 0, 1, 12])\n",
      "3\n",
      "None\n"
     ]
    }
   ],
   "source": [
    "bases = { 'A': 3, 'G': 0, 'C': 1, 'T': 12 }\n",
    "for k, v in bases.items():\n",
    "    print(k, v)\n",
    "print( bases.keys() )\n",
    "print( bases.values() )\n",
    "print( bases.get('A'))\n",
    "print( bases.get('N'))"
   ]
  },
  {
   "cell_type": "markdown",
   "metadata": {},
   "source": [
    "The `enumerate(iterable, start=0)` function returns a tuple containing a count (from start which defaults to 0) and the values obtained from iterating over iterable. When looping through a sequence, the position index and corresponding value can be retrieved at the same time using the enumerate() function."
   ]
  },
  {
   "cell_type": "code",
   "execution_count": 20,
   "metadata": {},
   "outputs": [
    {
     "name": "stdout",
     "output_type": "stream",
     "text": [
      "0 A\n",
      "1 G\n",
      "2 C\n",
      "3 T\n"
     ]
    }
   ],
   "source": [
    "for i, v in enumerate(bases):\n",
    "    print(i, v)"
   ]
  },
  {
   "cell_type": "markdown",
   "metadata": {},
   "source": [
    "### Dictionaries and lists\n",
    "\n",
    "Just as dictionaries can hold single values, they can also hold lists or even other dictionaries. The dictionary below holds numbers, sometimes only one and sometimes a list of two."
   ]
  },
  {
   "cell_type": "code",
   "execution_count": 21,
   "metadata": {},
   "outputs": [
    {
     "name": "stdout",
     "output_type": "stream",
     "text": [
      "[6]\n",
      "[0, 7]\n",
      "[0, 7, 33]\n"
     ]
    }
   ],
   "source": [
    "d = {\n",
    "    'ATC' : [ 0, 7 ],\n",
    "    'CAT' : [ 6 ],\n",
    "    'CGT' : [ 2 ],\n",
    "    'GTT' : [ 3 ],\n",
    "    'TCA' : [ 5 ],\n",
    "    'TCG' : [ 1, 8 ],\n",
    "    'TTC' : [ 4 ],\n",
    "}\n",
    "print( d['CAT'] )\n",
    "print( d['ATC'] )\n",
    "d['ATC'].append(33)\n",
    "print( d['ATC'] )"
   ]
  },
  {
   "cell_type": "markdown",
   "metadata": {},
   "source": [
    "Accessing entries in a list is done with a second set of brackets."
   ]
  },
  {
   "cell_type": "code",
   "execution_count": 22,
   "metadata": {},
   "outputs": [
    {
     "name": "stdout",
     "output_type": "stream",
     "text": [
      "33\n"
     ]
    }
   ],
   "source": [
    "print( d['ATC'][2] )"
   ]
  },
  {
   "cell_type": "markdown",
   "metadata": {},
   "source": [
    "### Removal\n",
    "\n",
    "To remove an item from a dictionary you can use the `del` statement. To clear a value use an empty assignment."
   ]
  },
  {
   "cell_type": "code",
   "execution_count": 23,
   "metadata": {},
   "outputs": [
    {
     "name": "stdout",
     "output_type": "stream",
     "text": [
      "{'CAT': [6], 'CGT': [2], 'GTT': [3], 'TCA': [5], 'TCG': [1, 8], 'TTC': [4]}\n",
      "{'CAT': [6], 'CGT': [2], 'GTT': [3], 'TCA': [5], 'TCG': [], 'TTC': [4]}\n"
     ]
    }
   ],
   "source": [
    "d['ATC'] = [ 0, 7 ]\n",
    "del d['ATC']\n",
    "print( d )\n",
    "d['TCG'] = []\n",
    "print( d )"
   ]
  },
  {
   "cell_type": "markdown",
   "metadata": {},
   "source": [
    "## Kmer dictionary\n",
    "\n",
    "A dictionary is another data structure that can make string searches very convenient. The advantage of a dictionary is that while there is an initial computing cost to making the dictionary, a kmer's position(s) can be accessed by nearly instantaneous look up. In contrast, the linear search requires time to iterate through the string for each search that is made. There is however a disadvantage of a dictionary compared to a linear search. Once a dictionary is made, e.g. kmer of length 5 or a 5mer, you can't use that dictionary to search for 6mers without also doing *kmer expansion*, or going back to the positions which match 5mers and then asking whether there is also a 6mer match. Second, the size of the dictionary grows exponentially with its length. For DNA sequences the dictionary size is $4^k$, which is about $10^{12}$ for even just a 20mer.  BLAST uses a kmer database to seed hits and then extends these to an alignment. The majority of BLAST compute time is spent in the extension of seeded hits.\n",
    "\n",
    "\n"
   ]
  },
  {
   "cell_type": "markdown",
   "metadata": {},
   "source": [
    "# <font color=red> Question 2 </font>\n",
    "Write a function in Python that takes a DNA sequence and kmer size (integer) as input, and returns a dictionary of all kmers (keys) in the string with a list of positions as values. The positions should start at 1. Use your function to make a dictionary of the 'seq' string below and print the dictionary. \n",
    "\n",
    "The following sequence with size = 3 should return:  \n",
    "`seq = 'ATCGTTCATCG'`  \n",
    "`kmerdict(seq,3)`  \n",
    "`{'ATC': [1, 8],\n",
    " 'CAT': [7],\n",
    " 'CGT': [3],\n",
    " 'GTT': [4],\n",
    " 'TCA': [6],\n",
    " 'TCG': [2, 9],\n",
    " 'TTC': [5]}`  \n",
    "\n",
    "Note that the order in the output is not important. \n",
    "\n",
    "Use your function and the second string and print the positions of all ATGs\n",
    "\n",
    "(3 points)"
   ]
  },
  {
   "cell_type": "code",
   "execution_count": 32,
   "metadata": {},
   "outputs": [
    {
     "name": "stdout",
     "output_type": "stream",
     "text": [
      "Here are all the ATG positions in seq2: \n"
     ]
    }
   ],
   "source": [
    "seq = 'ATCGTTCATCG'\n",
    "def kmerdict(sequence, size):\n",
    "    index = {}\n",
    "    \n",
    "    return index\n",
    "seq2 = 'CACTTCACTCCATGGCCCATCTCTCATGAATCAGTACCAAATGCACTCACATCATTATGCACGGCACTTGCCTCAGCGGTCTATACCCTGTGCCATTTACCCATAACGCCCATCATTATCCACATTTTGATATCTATATCTCATTCGGCGGTCCCAAATATTGTATAACTGCCCTTAAT'\n",
    "print( \"Here are all the ATG positions in seq2: \")"
   ]
  },
  {
   "cell_type": "markdown",
   "metadata": {},
   "source": [
    "# <font color=red> Question 3 </font>\n",
    "Find the number of times each of the following kmers are found in the lab02.fasta sequence (distributed in Lab02 as well as in the Lab03):  \n",
    "'A','T','G','C','TAA'  \n",
    "\n",
    "You can use either your linear search or your dictionary functions.\n",
    "\n",
    "If DNA sequences are random, then we'd expect the frequency of the tri-nucleotide sequence 'TAA' to be equal to the product of the frequencies of 'T', 'A' and 'A'. Calculate the expected number of occurrences of 'TAA' based on single nucleotide frequencies.\n",
    "\n",
    "(3 points)"
   ]
  },
  {
   "cell_type": "code",
   "execution_count": 33,
   "metadata": {},
   "outputs": [],
   "source": [
    "# Your code"
   ]
  },
  {
   "cell_type": "markdown",
   "metadata": {},
   "source": [
    "## Suffix arrays\n",
    "\n",
    "Another data structure that greatly facilitates string searches is a suffix array. A suffix array is a sorted array of all suffixes of a string whose values are the starting positions of each suffix in the original string. A suffix is any substring of a string which includes its last letter, including itself.  \n",
    "https://en.wikipedia.org/wiki/Suffix_array  \n",
    "\n",
    "For example, the suffixes of 'ATCGTTCAG' are:  \n",
    "<img src=\"images/suffixes.png\" >  \n",
    "\n",
    "To facilitate searching, suffix arrays are sorted.  \n",
    "<img src=\"images/suffixsorted.png\" >  \n",
    "\n",
    "**Why use a suffix array?** As you can see it's easy to find all the T's in the sequence; the last three entries show they start at positions (0-index) 5, 1 and 4. However, the same array can be used to find kmers of any length. For example TC can be seen to start at position 5 and 1. A dictionary of 1mers can't be used to search for 2mers.  \n",
    "\n",
    "There is a cost to storing the array, namely the array requires more memory than the length of the string. This is why suffix arrays only store the positions of the suffixes in the original string. If you know the position, the suffix can be extracted as a substring from the original sequence.  \n",
    "\n",
    "Thus, the suffix array of the original sequence is:  \n",
    "<img src=\"images/suffixarray.png\" >  \n",
    "\n",
    "Thus, given a sorted suffix array and the original string we can get the suffixes."
   ]
  },
  {
   "cell_type": "code",
   "execution_count": 26,
   "metadata": {},
   "outputs": [
    {
     "data": {
      "text/plain": [
       "'CGTTCAG'"
      ]
     },
     "execution_count": 26,
     "metadata": {},
     "output_type": "execute_result"
    }
   ],
   "source": [
    "s = 'ATCGTTCAG'\n",
    "SA = [7, 0, 6, 2, 8, 3, 5, 1, 4]\n",
    "# SA[3] starts at index 2 and so should be CGTTCAG\n",
    "s[SA[3]:]"
   ]
  },
  {
   "cell_type": "markdown",
   "metadata": {},
   "source": [
    "# <font color=red> Question 4 </font>\n",
    "Write a Python function that will take a string as an input and return a sorted suffix array. \n",
    "\n",
    "Your function with this input  \n",
    "`suffixArray('ATCGTTCAG')`  \n",
    "should return  \n",
    "`[7, 0, 6, 2, 8, 3, 5, 1, 4]`\n",
    "\n",
    "(3 points)"
   ]
  },
  {
   "cell_type": "code",
   "execution_count": 34,
   "metadata": {},
   "outputs": [
    {
     "data": {
      "text/plain": [
       "[]"
      ]
     },
     "execution_count": 34,
     "metadata": {},
     "output_type": "execute_result"
    }
   ],
   "source": [
    "def suffixArray(s):\n",
    "    \n",
    "    sa = []\n",
    "    \n",
    "    return list(sa)\n",
    "suffixArray('ATCGTTCAG')"
   ]
  },
  {
   "cell_type": "markdown",
   "metadata": {},
   "source": [
    "### Searching for a string in a suffix array\n",
    "\n",
    "To find all the positions of a substring in a suffix array we need to know the first and last suffix which starts with or is equal to the substring. This can be done through string comparison."
   ]
  },
  {
   "cell_type": "code",
   "execution_count": 28,
   "metadata": {},
   "outputs": [
    {
     "name": "stdout",
     "output_type": "stream",
     "text": [
      "0 False True False True AG\n",
      "1 False True False True ATCGTTCAG\n",
      "2 False True False True CAG\n",
      "3 False True False True CGTTCAG\n",
      "4 False True False True G\n",
      "5 False True False True GTTCAG\n",
      "6 True False False True TCAG\n",
      "7 True False False True TCGTTCAG\n",
      "8 True False True False TTCAG\n"
     ]
    }
   ],
   "source": [
    "subs = 'TC'\n",
    "for i in range( len(SA) ):\n",
    "    lessthan = subs < s[SA[i]:]\n",
    "    greaterthan = subs > s[SA[i]:]\n",
    "    greaterthan2 = subs < s[SA[i]:SA[i]+2]\n",
    "    greaterthanz = subs+'Z' > s[SA[i]:]\n",
    "    print(i, lessthan, greaterthan, greaterthan2, greaterthanz, s[SA[i]:])"
   ]
  },
  {
   "cell_type": "markdown",
   "metadata": {},
   "source": [
    "As you can see, index-6 is the start and index-7 (inclusive) is the end. 'lessthan' found the start but 'greaterthan' didn't find the end; in fact it found the start. This is because 'TC' > 'TCAG' is false.  \n",
    "\n",
    "Two ways to find the end were implemented. \n",
    "- Ask whether 'TC' is less than just the first two positions of the suffix.\n",
    "- Ask whether 'TCZ' is less than the suffix, because Z is greater than A, C, G, T."
   ]
  },
  {
   "cell_type": "markdown",
   "metadata": {},
   "source": [
    "### Binary search\n",
    "\n",
    "Iterating through a suffix array to find the first and last position that matches a substring is not very efficient and has a complexity of O(n), similar to a simple linear search. However, because the suffix array is sorted, we can use a binary search.\n",
    "\n",
    "A binary search finds the position of a target value within a sorted array. The steps used:\n",
    "- Binary search compares the target value to the middle element of the array. \n",
    "- If the target is greater than the midpoint the target cannot be to the left and so the search continues on the right\n",
    "- The midpoint of the right side is found, queried against the target and this is repeated until the target is found.  \n",
    "\n",
    "For example, searching for 7 in the sorted array below:\n",
    "\n",
    "<img src=\"images/binary_search.png\"  width = 400 >  \n",
    "\n",
    "\n",
    "A binary search has a complexity of O(log n), compared to a linear search which is O(n).  \n",
    "\n",
    "To use a binary search with the suffix array, we need to use a version of binary search called **bisect left**. Bisect left does not require the substring exists in the array, and also finds the **leftmost** position it would be inserted.  \n",
    "\n",
    "Thus, bisectleft of 'TC' in the suffix array above should return 6 - this is where it would be inserted. \n",
    "\n",
    "Below is a bisect left function that takes an array (A) and finds the left most position that the target (T) would be inserted."
   ]
  },
  {
   "cell_type": "code",
   "execution_count": 29,
   "metadata": {},
   "outputs": [
    {
     "name": "stdout",
     "output_type": "stream",
     "text": [
      "2\n",
      "4\n",
      "8\n"
     ]
    }
   ],
   "source": [
    "array = [1,1,2,3,6,6,8,9]\n",
    "def bisect_left(A, T):\n",
    "    n = len(A)\n",
    "    L = 0\n",
    "    R = n\n",
    "    while L < R:\n",
    "        # // Floor division where the number of integers is returned with no remainer. \n",
    "        # 9 // 2 = 4\n",
    "        # 9 // 5 = 1\n",
    "        # round() and divmod() could also be used\n",
    "        m = ((L + R) // 2)\n",
    "        if A[m] < T:\n",
    "            L = m + 1\n",
    "        else:\n",
    "            R = m\n",
    "    return L\n",
    "print( bisect_left(array,2) )\n",
    "print( bisect_left(array,6) )\n",
    "print( bisect_left(array,10) )"
   ]
  },
  {
   "cell_type": "markdown",
   "metadata": {},
   "source": [
    "# <font color=red> Question 5 </font>\n",
    "\n",
    "Write a function that takes a suffix array, string and substring as input and outputs all the positions (1-based) where the substring occurs in the string. You must use the suffix array and a binary search to receive full credit. Note that the bisect_left function above will not work on a suffix array, it must be modified. Check that your function is working correctly by comparing it to your linear search function and the example below. \n",
    "\n",
    "(5 points)"
   ]
  },
  {
   "cell_type": "code",
   "execution_count": 36,
   "metadata": {},
   "outputs": [],
   "source": [
    "sequence = 'AATATTCCGCTTTATTTTGTTGCAATTCCTAATTTTTTCATTACATTATCTTGCGAGTACGGAAGCGATTAACGTTCTCCCAATAGAAGGAACAAACATAGATATTGAAGTTTTACTGCTTTTGCTTACCTGACCTTTTTCAAATTTAATTTTTTCCCGCTAATAAGACCATAAACTACCCCGAACCAAATTCTAAAAGATAGTCAGCTGGATTAGAGTTGTCATCTCCAAACATTAATTTTGCATTATCTTCGGCTTCAATCAAATCGCCTGATAAGAACTCCTTTAATTCTTCATGAATGTTTGTATGTGGATGACTCTCCATAGTGCCAGCATGATTGTGGTTACCGACCGAATCATATAACGGTGGCTCCCAATTGTGCAATTCAGCCTTACTATTTTGTTCATTCATCAAAGCATTTGGGACAGATCTAATATCTATAATTCTTTCCTCACTATTCTCGCTATTATTTTGCCCCGAACTGGCATGGTGGTTATTGGTAAAAGGAGATAATGCTGCGACAGAACTTTTCTTCTCTT'\n",
    "sub = 'TTT'\n",
    "# Obtain suffix array\n",
    "SA = suffixArray(sequence)\n",
    "\n",
    "# Define binary search: bisect_left, bisect_right or one function that outputs both the left and right boundaries\n",
    "\n"
   ]
  },
  {
   "cell_type": "markdown",
   "metadata": {},
   "source": [
    "# <font color=red> Question 6 </font>\n",
    "\n",
    "a) Suppose you need to find the positions of all 20mers in a genome. If you have already constructed the SA and dictionary, which of your functions do you think would be fastest (Suffix array, dictionary or linear search)?  \n",
    "b) Suppose you need to search a genome for ATG and report all positions. Which method would require the least amount of memory, including memory needed to construct any data structure used in the search?  \n",
    "c) Suppose you need a function that will return the position of any input string in the genome, and many different strings will be searched for. Which of your functions would be fastest?  \n",
    "\n",
    "(3 points)"
   ]
  },
  {
   "cell_type": "markdown",
   "metadata": {},
   "source": [
    "## Answer\n",
    "Type your answer here.\n",
    "\n"
   ]
  },
  {
   "cell_type": "code",
   "execution_count": null,
   "metadata": {},
   "outputs": [],
   "source": []
  }
 ],
 "metadata": {
  "kernelspec": {
   "display_name": "Python 3 (ipykernel)",
   "language": "python",
   "name": "python3"
  },
  "language_info": {
   "codemirror_mode": {
    "name": "ipython",
    "version": 3
   },
   "file_extension": ".py",
   "mimetype": "text/x-python",
   "name": "python",
   "nbconvert_exporter": "python",
   "pygments_lexer": "ipython3",
   "version": "3.9.7"
  }
 },
 "nbformat": 4,
 "nbformat_minor": 4
}
