{
 "cells": [
  {
   "cell_type": "markdown",
   "metadata": {
    "jp-MarkdownHeadingCollapsed": true,
    "tags": []
   },
   "source": [
    "# Lab 05 Markov models\n",
    "For Lab 05 | Modeling DNA Evolution you will generate and compare substitution rates under different nucleotide substitution models using two aligned sequences that are provided. You will use both analytic solutions as well as Markov Models to calculate your answers. The models are JC69 (Jukes and Canter 1969), K80 (Kimura 1980), HKY85 (Hasegawa, Kishino and Yano 1985). \n",
    "\n",
    "The lab is split into the following sections:\n",
    "- Introduction\n",
    "- Probability theory \n",
    "- Markov models\n",
    "- Python modules, packages: NumPy and SciPy\n",
    "- Nucleotide substitution models\n",
    "\n",
    "## Assignment\n",
    "Follow the instructions in this document and answer the questions in the cell below each question. Submit your answers by uploading a PDF file to gradescope. To generate the pdf, first export the notebook as HTML: >File, >Export to ..., >HTML. Then, open the HTML in a browser and use your browser to print to PDF.\n",
    "\n",
    "Check to make sure all your cells have been run and the **results** displayed in the PDF file.   \n",
    "\n",
    "Reminder, provide comments for any code you write to ensure partial credit."
   ]
  },
  {
   "cell_type": "markdown",
   "metadata": {},
   "source": [
    "# Introduction\n",
    "\n",
    "Many biological processes are stochastic and can be modeled using Markov chains. For example, changes in DNA and proteins sequences over time can be modeled using a Markov chain and such models form the basis for many of the inferrences we derive from comparing DNA or protein sequences to one another. Many different forms of a Markov model have been used for DNA sequence evolution, i.e. nucleotide substitution over time. These substitution models differ in terms of the parameters used to describe the rates at which one nucleotide replaces another during evolution. These models are frequently used in molecular phylogenetic analyses, such as during the calculation of the likelihood of a particular tree, and they are used to estimate the substitution rate and the amount of time that separates two sequences.  \n",
    "\n",
    "Before going into the specifics of the models, we will review a few concepts in probability theory."
   ]
  },
  {
   "cell_type": "markdown",
   "metadata": {},
   "source": [
    "# Probability theory\n",
    "\n",
    "The probability of something, an event happening, is the number of possible ways the event can occur divided by the number of all possible outcomes if all outcomes have an equal chance of occurring (fair coin or dice).  \n",
    "\n",
    "The probability of some event A, can be written as $P(A)$. If A indicates heads when flipping a fair coin and B indicates tails, the total number of possible outcomes is two. For a fair coin:  \n",
    "\n",
    "$ P(A) = \\frac{1\\ (way\\ to\\ get\\ a\\ head)} {2\\ (possible\\ outcomes)} = 0.5 $\n",
    "\n",
    "If different outcomes have different chances of occurring then the probability of an event (A) is defined by its frequency as follows:  \n",
    "\n",
    "$ P(A) = \\lim\\limits_{n_t \\to \\infty} \\frac {n_A}{n_t} $\n",
    "\n",
    "where $n_A$ is the number of events where $A$ occurs and $n_t$ is the total number of events.  \n",
    "\n",
    "A random variable or stochastic variable is a variable whose possible values are outcomes of a random phenomenon. For example a random variable can be heads or tails for a coin toss. "
   ]
  },
  {
   "cell_type": "markdown",
   "metadata": {},
   "source": [
    "### Rules\n",
    "\n",
    "When there are two events, their combined probability depends on whether they are independent of one another. If events A and B are *independent* then \n",
    "\n",
    "$ P(A\\ and\\ B) = P(A) \\times P(B) $  The probability of A and B both occurring is the probability of A times probability of B.\n",
    "\n",
    "$ P(A | B) = P(A) $  The probability of A given that B occurs is the same as the probability of A. Thus, when independent $P(A)$ does not depend on B.\n",
    "\n",
    "If A and B are *dependent* then\n",
    "\n",
    "$ P( A\\ and\\ B) = P(A | B) \\times P(B) = P(B | A) \\times P(A)$\n",
    "\n",
    "Addition rule:\n",
    "\n",
    "$ P(A\\ or\\ B) = P(A)\\ +\\ P(B) - P(A\\ and\\ B)$  \n",
    "\n",
    "If A and B are mutually exclusive, e.g. heads and tails, then $P(A\\ and\\ B)$ = 0 and  \n",
    "\n",
    "$ P(A\\ or\\ B) = P(A)\\ +\\ P(B) $\n",
    "\n",
    "If A and B are the only possible outcomes and are mutually exclusive events, then $P(A) + P(B) = 1$  \n"
   ]
  },
  {
   "cell_type": "markdown",
   "metadata": {},
   "source": [
    "# Markov models\n",
    "\n",
    "A **stochastic process** is a sequence of random variables based on the same sample space. The possible outcomes of the random variables are called the set of possible states of the process. For example, the sequence of outcomes when rolling a fair, six-sided die is a stochastic process with discrete random variables.  \n",
    "\n",
    "A **Markov process** is a stochastic process that is *memoryless*. Memoryless is an attribute a process may possess wherein the probability of the next state is in NO way affected by an outcome of a previous state/outcome. It is however dependent on the current state.  \n",
    "\n",
    "A **Markov chain** is a discrete-valued Markov process. Discrete-valued means that the state space of possible values of the Markov chain is finite or countable. Thus, a *Markov chain* is a special type of stochastic process where the probability of the next state conditional on the entire sequence of previous states up to the current state is only dependent on the current state. Dice-based games, e.g. Chutes and Ladders, form a discrete time Markov chain: the probability of a move only depends on the current position on the board and the role of the dice.  \n",
    "\n",
    "A continuous-time Markov chain is one in which changes to another state can happen at any time along a continuous time interval. The time that a continuous-time Markov chain spends in a state has an exponential distribution. This is in part due to the exponential distribution being the only continuous distribution with the unique property of memorylessness: the waiting time to the next event is independent of when the last event occurred."
   ]
  },
  {
   "cell_type": "markdown",
   "metadata": {},
   "source": [
    "## Stochastic process\n",
    "\n",
    "Markov chains are just one type of stochastic process. Other types include Bernoulli process, Poisson process and Gaussian process, specified by the types of random variables that describe them. On the real number line, e.g. time, the Poisson process is a type of continuous-time Markov process known as a birth-death process. It is defined by the number of points in each finite interval as having a Poisson distribution. A special characteristic of the Poisson process is that the distance between two consecutive points on the real line will be an exponential random variable with parameter $ \\lambda $.  \n",
    "\n",
    "## Properties of discrete time Markov Chains\n",
    "\n",
    "A discrete time Markov chain is defined by a transition matrix $P_{ij}$ of transitioning from state $i$ to state $j$:\n",
    "\n",
    "$\n",
    "\\begin{equation}\n",
    "P_{ij} = \n",
    "\\begin{bmatrix}\n",
    "p_{11} & p_{12}  & p_{13} & p_{14} \\\\\n",
    "p_{21} & p_{22}  & p_{23} & p_{24} \\\\\n",
    "p_{31} & p_{32}  & p_{33} & p_{34} \\\\\n",
    "p_{41} & p_{42}  & p_{43} & p_{44} \n",
    "\\end{bmatrix}\n",
    "\\end{equation}\n",
    "$\n",
    "\n",
    "where $p_{ij}$ is the probability of going from state i to j: $P(X_{t+1} = j |X_t = i)$  \n",
    "\n",
    "\n",
    "In two steps we have:  \n",
    "\n",
    "$ P(2) = P \\cdot P = P^2 $\n",
    "\n",
    "In n steps we have:\n",
    "\n",
    "$ P(n) =  P^n $\n",
    "\n",
    "In the limit as n goes to infinity, we get the equilibrium values of being in each state:\n",
    "\n",
    "$\n",
    "\\begin{align}\n",
    "\\lim_{n \\to \\inf } P^n = \\pi\n",
    "\\end{align}\n",
    "$\n",
    "\n",
    "such that\n",
    "\n",
    "$ \\pi = P \\pi $"
   ]
  },
  {
   "cell_type": "markdown",
   "metadata": {},
   "source": [
    "# Python packages and modules\n",
    "\n",
    "A package is a collection of Python modules: while a module is a single Python file containing code with specific functionality. A Python module can have a set of functions, classes or variables defined and implemented.  \n",
    "\n",
    "A module allows you to logically organize your Python code. Grouping related code into a module makes the code easier to understand and use. More specifically, a module is a Python object with arbitrarily named attributes that you can bind and reference.  \n",
    "\n",
    "Python modules or packages can be installed and used, but many are built in to Python. Here is a list of built in Python modules:  \n",
    "https://docs.python.org/3/py-modindex.html\n",
    "\n",
    "## Importing python modules\n",
    "\n",
    "To use a module it must be imported. This can be done a couple of different ways. We will use the built in *math* module as an example. The math module contains a number of constants and functions, e.g. log(), log10(), exp(), etc.  \n",
    "https://docs.python.org/3.7/library/math.html\n",
    "\n",
    "To import math:"
   ]
  },
  {
   "cell_type": "code",
   "execution_count": 1,
   "metadata": {},
   "outputs": [
    {
     "name": "stdout",
     "output_type": "stream",
     "text": [
      "['__doc__', '__file__', '__loader__', '__name__', '__package__', '__spec__', 'acos', 'acosh', 'asin', 'asinh', 'atan', 'atan2', 'atanh', 'ceil', 'comb', 'copysign', 'cos', 'cosh', 'degrees', 'dist', 'e', 'erf', 'erfc', 'exp', 'expm1', 'fabs', 'factorial', 'floor', 'fmod', 'frexp', 'fsum', 'gamma', 'gcd', 'hypot', 'inf', 'isclose', 'isfinite', 'isinf', 'isnan', 'isqrt', 'lcm', 'ldexp', 'lgamma', 'log', 'log10', 'log1p', 'log2', 'modf', 'nan', 'nextafter', 'perm', 'pi', 'pow', 'prod', 'radians', 'remainder', 'sin', 'sinh', 'sqrt', 'tan', 'tanh', 'tau', 'trunc', 'ulp']\n"
     ]
    }
   ],
   "source": [
    "# Import built-in module math\n",
    "import math\n",
    "\n",
    "# To see what has been imported \n",
    "content = dir(math)\n",
    "print(content)"
   ]
  },
  {
   "cell_type": "markdown",
   "metadata": {},
   "source": [
    "Here, the special string variable \\_\\_name\\_\\_ is the module's name, and \\_\\_file\\_\\_ is the filename from which the module was loaded. Python comes with a number of special variables and methods whose name is preceeded and followed by \\_\\_,  \\_\\_name\\_\\_ is just one.\n",
    "\n",
    "\n",
    "\\_\\_name\\_\\_ defines the namespace that a Python module is running in. When Python is run, it will replace \\_\\_name\\_\\_ with it's namespace. When a packages is imported, its \\_\\_name\\_\\_ is replaced by the name of the module, but the code in that module will not be executed automatically.  \n",
    "\n",
    "When we import math, we can access its function for the exponential $e^x$ using `math.exp(x)`."
   ]
  },
  {
   "cell_type": "code",
   "execution_count": 2,
   "metadata": {},
   "outputs": [
    {
     "data": {
      "text/plain": [
       "0.36787944117144233"
      ]
     },
     "execution_count": 2,
     "metadata": {},
     "output_type": "execute_result"
    }
   ],
   "source": [
    "math.exp(-1)"
   ]
  },
  {
   "cell_type": "markdown",
   "metadata": {},
   "source": [
    "There are a few different ways to import a module.  \n",
    "\n",
    "To import just `exp()`:"
   ]
  },
  {
   "cell_type": "code",
   "execution_count": 3,
   "metadata": {},
   "outputs": [
    {
     "data": {
      "text/plain": [
       "0.36787944117144233"
      ]
     },
     "execution_count": 3,
     "metadata": {},
     "output_type": "execute_result"
    }
   ],
   "source": [
    "from math import exp\n",
    "exp(-1)"
   ]
  },
  {
   "cell_type": "markdown",
   "metadata": {},
   "source": [
    "In this context we've imported just the function, and not the name space so it can be called by `exp()` not `math.exp()`.  \n",
    "\n",
    "We can also rename the name space when importing:"
   ]
  },
  {
   "cell_type": "code",
   "execution_count": 4,
   "metadata": {},
   "outputs": [
    {
     "data": {
      "text/plain": [
       "0.36787944117144233"
      ]
     },
     "execution_count": 4,
     "metadata": {},
     "output_type": "execute_result"
    }
   ],
   "source": [
    "import math as m\n",
    "m.exp(-1)"
   ]
  },
  {
   "cell_type": "markdown",
   "metadata": {},
   "source": [
    "To import all of the math functions you can use * to indicate a match to any named function, variable, etc."
   ]
  },
  {
   "cell_type": "code",
   "execution_count": 5,
   "metadata": {},
   "outputs": [
    {
     "data": {
      "text/plain": [
       "1.0"
      ]
     },
     "execution_count": 5,
     "metadata": {},
     "output_type": "execute_result"
    }
   ],
   "source": [
    "from math import *\n",
    "log2(2)"
   ]
  },
  {
   "cell_type": "markdown",
   "metadata": {},
   "source": [
    "## NumPy and SciPy\n",
    "\n",
    "The NumPy Package is a Python package that contains modules with various functions that facilitate representation and calculation of mathematics, in particular linear algebra, Fourier transform, and random number capabilities.  \n",
    "\n",
    "SciPy (pronounced “Sigh Pie”) is a Python-based ecosystem of open-source software for mathematics, science, and engineering. In particular, these are some of the core packages: NumPy (Base N-dimensional array package), Pandas (data structures and analysis), Matplotlib (Comprehensive 2D Plotting), and more.\n",
    "\n",
    "These packages are great for example: \n",
    "- NumPy’s array type augments the Python language with an efficient data structure useful for numerical work, e.g., manipulating matrices. NumPy also provides basic numerical routines, such as tools for finding eigenvectors.\n",
    "- SciPy contains additional routines needed in scientific work: for example, routines for computing integrals numerically, solving differential equations, optimization, and sparse matrices.\n",
    "- The matplotlib module produces high quality plots. With it you can turn your data or your models into figures for presentations or articles. No need to do the numerical work in one program, save the data, and plot it with another program.\n"
   ]
  },
  {
   "cell_type": "markdown",
   "metadata": {},
   "source": [
    "## Matrix algebra\n",
    "\n",
    "Lets define a transition matrix P using NumPy and calculate some transitions."
   ]
  },
  {
   "cell_type": "code",
   "execution_count": 6,
   "metadata": {},
   "outputs": [
    {
     "name": "stdout",
     "output_type": "stream",
     "text": [
      "[[0.25       0.5        0.25      ]\n",
      " [0.33333333 0.         0.66666667]\n",
      " [0.5        0.         0.5       ]]\n"
     ]
    }
   ],
   "source": [
    "# Importing NumPy package\n",
    "import numpy as np\n",
    "\n",
    "# Define NumPy array\n",
    "P = np.array( [[1/4, 1/2, 1/4], [1/3, 0, 2/3], [1/2, 0, 1/2]] )\n",
    "print(P)\n"
   ]
  },
  {
   "cell_type": "markdown",
   "metadata": {},
   "source": [
    "Lets define a vector $X_0$, as a vector of probabilities of being in state $i$ that correspond to the 1st, 2nd, and 3rd rows of the transition matrix.  \n",
    "\n",
    "We can then take the dot product of this vector and the transition matrix to get the probability of being in each state at the next time-point: $X_1$"
   ]
  },
  {
   "cell_type": "code",
   "execution_count": 7,
   "metadata": {},
   "outputs": [
    {
     "name": "stdout",
     "output_type": "stream",
     "text": [
      "[0.25 0.5  0.25]\n",
      "[0.35416667 0.125      0.52083333]\n",
      "[0.390625   0.17708333 0.43229167]\n"
     ]
    }
   ],
   "source": [
    "# Define vector\n",
    "X0 = np.array([1,0,0])\n",
    "\n",
    "# Take the dot product\n",
    "X1 = X0.dot(P)\n",
    "print(X1)\n",
    "\n",
    "X2 = X1.dot(P)\n",
    "print(X2)\n",
    "\n",
    "X3 = X2.dot(P)\n",
    "print(X3)\n"
   ]
  },
  {
   "cell_type": "markdown",
   "metadata": {},
   "source": [
    "Thus, $X_1$ tells us the probability of $P_{12}$ in one step is 0.5, and $P_{13}$ in one step is 0.25.  \n",
    "\n",
    "$X_2$ tells us the probability of transition from state 1 to state 2 in two steps is 0.125. \n",
    "\n",
    "Similarly, we can use the dot product of the transition matrix to get the matrix of all transition probabilities over multiple steps:"
   ]
  },
  {
   "cell_type": "code",
   "execution_count": 8,
   "metadata": {},
   "outputs": [
    {
     "name": "stdout",
     "output_type": "stream",
     "text": [
      "[[0.35416667 0.125      0.52083333]\n",
      " [0.41666667 0.16666667 0.41666667]\n",
      " [0.375      0.25       0.375     ]]\n",
      "[[0.390625   0.17708333 0.43229167]\n",
      " [0.36805556 0.20833333 0.42361111]\n",
      " [0.36458333 0.1875     0.44791667]]\n"
     ]
    }
   ],
   "source": [
    "# Define vector\n",
    "P2 = P.dot(P)\n",
    "print(P2)\n",
    "\n",
    "P3 = P2.dot(P)\n",
    "print(P3)"
   ]
  },
  {
   "cell_type": "markdown",
   "metadata": {},
   "source": [
    "P3 tell us that probability of transitioning from state $i$ to state $j$ in three steps."
   ]
  },
  {
   "cell_type": "markdown",
   "metadata": {},
   "source": [
    "# <font color=red> Question 1 </font> \n",
    "Given a transition matrix (P) with four state {A, G, C, T}, calculate the probability of being in state A, G, C and T after 20 steps, given a current state of G.      \n",
    "\n",
    "What is the probability of being in state G at all 20 steps, given a current state of G.   \n",
    "\n",
    "What is the probability of being in state G after 20 steps given a current state of G *and* having transitioned through at least one A, C or T state in intermediate steps.  \n",
    "\n",
    "(4 points)"
   ]
  },
  {
   "cell_type": "code",
   "execution_count": 9,
   "metadata": {},
   "outputs": [
    {
     "name": "stdout",
     "output_type": "stream",
     "text": [
      "[[0.97 0.01 0.01 0.01]\n",
      " [0.01 0.97 0.01 0.01]\n",
      " [0.01 0.01 0.97 0.01]\n",
      " [0.01 0.01 0.01 0.97]]\n"
     ]
    }
   ],
   "source": [
    "pij = 0.01\n",
    "pii = 0.97\n",
    "P = np.array( [[pii, pij, pij, pij], [pij, pii, pij, pij], [pij, pij, pii, pij],[pij, pij, pij, pii]] )\n",
    "# The states in the first through forth elements correspond to A, G, C, T\n",
    "print(P)"
   ]
  },
  {
   "cell_type": "code",
   "execution_count": 10,
   "metadata": {},
   "outputs": [],
   "source": [
    "# Answer"
   ]
  },
  {
   "cell_type": "markdown",
   "metadata": {},
   "source": [
    "## Properties of continuous time Markov Chains\n",
    "\n",
    "Given transition probabilities of a Markov chain, $P(t)$ for a matrix with entries:\n",
    "\n",
    "$p_{ij} = P(X_t = j | X_0 = i)$  \n",
    "\n",
    "then the matrix $P(t)$ satisfies the Kolmogorov forward equation:  \n",
    "\n",
    "$ P'(t) = P(t) Q$  \n",
    "\n",
    "Where $P'$ indicates differentiation with respect to time $t$, and $p_{ij}$ is the probability of being in state $j$ at time $t$ given a current state of $i$ at time $t=0$. The solution to this equation is given by the matrix exponential:  \n",
    "\n",
    "$ P(t) = e^{Qt} $  \n",
    "\n",
    "Where $Q$ is the instantaneous rate matrix, which describes the amount of change or flow from one state to another per unit time, and the sum of each row is $0$:\n",
    "\n",
    "$\n",
    "\\begin{align}\n",
    "\\sum_{i=0}^{n} Q_{ij} = 0\n",
    "\\end{align}\n",
    "$\n",
    "\n",
    "Which can be achieved by defining:  \n",
    "\n",
    "$\n",
    "\\begin{align}\n",
    "Q_{ii} = - \\sum_{i \\neq j}^{n} Q_{ij}\n",
    "\\end{align}\n",
    "$\n",
    "\n",
    "The solution to matrix exponentiation is given by:  \n",
    "$\n",
    "\\begin{align}\n",
    "P(t) = e^{Qt} = \\sum_{n = 0 }^{\\infty} Q^n \\frac {t^n} {n!}\n",
    "\\end{align}\n",
    "$\n",
    "\n",
    "To exponentiate a matrix, we will need to import some scientific computing modules: NumPy and SciPy.\n"
   ]
  },
  {
   "cell_type": "markdown",
   "metadata": {},
   "source": [
    "# Nucleotide substitution models\n",
    "\n",
    "Nucleotide substitution models are modeled as time-homogeneous, continuous time Markov chains. They have the following set of underlying assumptions:\n",
    "- At any given site in a sequence, the rate of change from base $i$ to base $j$ is *independent* from the base that occupied the site prior to $i$ (**Markov property**).\n",
    "- Substitution rates do not change over time (**homogeneity**).\n",
    "- The relative frequencies of A, G, C and T are at equilibrium (**stationarity**). \n",
    "\n",
    "For DNA substitution models, the transition matrix is a 4x4 matrix $P(t)$. Each element gives the probability that state $i$ will change to state $j$ in time $t$, with state space $[A, G, C, T]$.  \n",
    "$\n",
    "\\begin{equation}\n",
    "P_{ij}(t) = \n",
    "\\begin{bmatrix}\n",
    "p_{AA}(t) & p_{AG}(t) & p_{AC}(t) & p_{AT}(t) \\\\\n",
    "p_{GA}(t) & p_{GG}(t) & p_{GC}(t) & p_{GT}(t) \\\\\n",
    "p_{CA}(t) & p_{CG}(t) & p_{CC}(t) & p_{CT}(t) \\\\\n",
    "p_{TA}(t) & p_{TG}(t) & p_{TC}(t) & p_{TT}(t)\n",
    "\\end{bmatrix}\n",
    "\\end{equation}\n",
    "$\n",
    "\n",
    "Thus, $p_{AG}(t)$ is the probability of a transition from $A$ to $G$ in time $t$. In a fully parameterized model the instantaneous rate matrix is given by:  \n",
    "\n",
    "$\n",
    "\\begin{equation}\n",
    "Q = \n",
    "\\begin{bmatrix}\n",
    "-(\\eta \\pi_G + \\delta \\pi_C + \\beta \\pi_T)\\mu & \\eta \\pi_G \\mu & \\delta \\pi_C \\mu &  \\beta \\pi_T \\mu \\\\\n",
    "\\eta \\pi_A \\mu & -(\\eta \\pi_A + \\epsilon \\pi_C + \\gamma \\pi_T) \\mu & \\epsilon \\pi_C \\mu &  \\gamma \\pi_T \\mu  \\\\\n",
    "\\delta \\pi_A \\mu & \\epsilon \\pi_G \\mu & -(\\delta \\pi_A + \\epsilon \\pi_G + \\alpha \\pi_T)\\mu &  \\alpha \\pi_T \\mu  \\\\\n",
    "\\beta \\pi_A \\mu & \\gamma \\pi_G \\mu & \\alpha \\pi_C \\mu &  -(\\beta \\pi_A + \\gamma \\pi_G + \\alpha \\pi_C)\\mu\n",
    "\\end{bmatrix}\n",
    "\\end{equation}\n",
    "$\n",
    "\n",
    "where $ \\eta, \\; \\delta, \\; \\beta, \\; \\epsilon, \\; \\gamma, \\; \\alpha$ are the transition rates parameters, $\\pi_N$ is the equilibrium nucleotide frequency of base N $[A, G, C, T]$, and $\\mu$ is the mutation rate. The rate of a nucleotide either not changing or re-arriving at its original base is the negative sum of the row rates. For example, given the current state is an $A$ (first row), the rate of change to $C$ is the product of the mutation rate $(\\mu)$, the relative rate for this type of change $(\\delta)$, and the equilibrium frequency of $C\\; (\\pi_C)$.  \n",
    "\n",
    "The $Q$ matrix, as shown above, represents the most generalized model possible and also one that is time-reversible (GTR: Generalized time-reversible). This model has 4 equilibrium frequencies of each nucleotide as well as 6 substitution rates governing different types of changes.  \n",
    "\n",
    "What is an instantaneous rate matrix and why do we use it? Recall that $P'(t) = P(t) Q$ and so $P'(0) = Q$ or the rate matrix is equal to the derivative of the transition probability matrix as time goes to zero.\n",
    "\n",
    "If we assume that nucleotides are expected to occur at all the same frequencies, and that mutation rates are all equally likely as well, we get the simplest substitution model, created by Thomas Jukes and Charles Cantor in 1969.  "
   ]
  },
  {
   "cell_type": "markdown",
   "metadata": {},
   "source": [
    "## Jukes-Cantor Model (JC69)\n",
    "\n",
    "The Jukes-Cantor model is a simplified version of the GTR model. It has an instantaneous rate matrix:  \n",
    "\n",
    "$\n",
    "\\begin{equation}\n",
    "Q = \n",
    "\\begin{bmatrix}\n",
    "-3\\mu & \\mu  & \\mu & \\mu \\\\\n",
    "\\mu & -3\\mu  & \\mu & \\mu \\\\\n",
    "\\mu & \\mu  & -3\\mu & \\mu \\\\\n",
    "\\mu & \\mu  & \\mu & -3\\mu  \n",
    "\\end{bmatrix}\n",
    "\\end{equation}\n",
    "$\n",
    "\n",
    "Thus, the JC69 model has only one parameter, the mutation rate $\\mu$. In class we used $\\alpha$ for the mutation rate to each base. It would make sense to use $ \\frac{\\mu}{3} $, since mutation rate is better thought of as the rate to any base and so the rate to a particular base is $\\frac{\\mu}{3}$. As you will see, this is the correct scaling.  \n",
    "\n",
    "However, the instantaneous rate matrix determines the continuous time Markov model and when using the model it can easily be converted to a different time scale as a matter of convenience. As a consequence, the JC69 model is also equivalent to the following model, with * representing negative row sums:\n",
    "\n",
    "$\n",
    "\\begin{equation}\n",
    "Q = \n",
    "\\begin{bmatrix}\n",
    "* & 1  & 1 & 1 \\\\\n",
    "1 & *  & 1 & 1 \\\\\n",
    "1 & 1  & * & 1 \\\\\n",
    "1 & 1  & 1 & *\n",
    "\\end{bmatrix}\n",
    "\\end{equation}\n",
    "$\n",
    "\n",
    "### Scaling \n",
    "\n",
    "Because $\\mu$ is the mutation rate per generation and $t$ is time in generations, we would like the substitution rate, $\\mu t$, to be measured in units of substitutions per site. This can be accomplished by scaling the rate matrix such that when the substitution rate $\\mu t$ = 1, there is one substitution per site. A simple way to achieve this scaling is to scale $\\mu$, the total number of substitutions per unit time to 1, then t is a measure of substitutions per site. For example if we scale $\\mu$ to 1 and t = 0.5 then $\\mu t$ = 0.5 substitutions per site.  \n",
    "\n",
    "To accomplish this scaling, we devide each cell in the matrix by a constant scaling factor. The total number of substitutions per unit time is the negative sum of the rate of no change times the equilibrium base frequencies:\n",
    "\n",
    "$\n",
    "\\begin{align}\n",
    "\\mu = - \\sum_{i=1}^n \\pi_i Q_{ii} \n",
    "\\end{align}\n",
    "$\n",
    "\n",
    "Thus, the scaling is achieved by dividing each element in $Q$ by $\\mu$ so that the total flux through the matrix is 1. In this way, $P(t) = e^{Qt}$ will give the transition probabilities such that $t = 1$ is the equivalent of 1 substitutions per site. The alternative would be to use a known value of $\\mu$, for example: $10^{-8}$, and then $t$ would be measured in generations and substitution rate would be calculated by $\\mu t$. Therefore, the scaling is a matter of convenience.  \n",
    "\n",
    "First, lets see the equivalence of the two Q matrices above. * is the negative row sum = -3 and has the form $P(t) = e^{Q\\mu t}$. The first Q matrix already has a row sum of zero because the diagonal is $ -3 \\mu$ and so has the form $P(t) = e^{Q t}$ since $\\mu $ is a constant inside each cell in the matrix. Thus, the two are equivalent.  \n",
    "\n",
    "Now, lets scale the Q matrix so that t = 1 is equivalent to one substitution per site. "
   ]
  },
  {
   "cell_type": "markdown",
   "metadata": {},
   "source": [
    "### Scaling the Jukes-Cantor model\n",
    "\n",
    "To scale $Q$ such that the total flux is 1, each element is divided by 3 = -(-3\\*0.25 + -3\\*0.25 + -3\\*0.25 + -3\\*0.25), giving:  \n",
    "\n",
    "$\n",
    "\\begin{equation}\n",
    "Q = \n",
    "\\begin{bmatrix}\n",
    "-1 & \\frac{1}{3}  & \\frac{1}{3} & \\frac{1}{3} \\\\\n",
    "\\frac{1}{3} & -1 & \\frac{1}{3} & \\frac{1}{3} \\\\\n",
    "\\frac{1}{3} & \\frac{1}{3} & -1  & \\frac{1}{3} \\\\\n",
    "\\frac{1}{3} & \\frac{1}{3} & \\frac{1}{3} & -1 \n",
    "\\end{bmatrix}\n",
    "\\end{equation}\n",
    "$\n",
    "\n",
    "The equivalent scaling is to divide by 3$\\mu$ for the first Q matrix. The result is the same."
   ]
  },
  {
   "cell_type": "markdown",
   "metadata": {},
   "source": [
    "# Calculating transition probabilities\n",
    "\n",
    "Given a model (JC69), what is the transition matrix $P(t)$, given $t = 1$ substitution/site?  \n",
    "\n",
    "Lets first start by initializing a rate matrix $Q$ and multiplying by the equilibrium base frequencies $\\pi$.  To do so we will import the NumPy package and use NumPy's two-dimensional array: https://docs.scipy.org/doc/numpy/reference/generated/numpy.array.html\n"
   ]
  },
  {
   "cell_type": "code",
   "execution_count": 11,
   "metadata": {},
   "outputs": [
    {
     "name": "stdout",
     "output_type": "stream",
     "text": [
      "[[0.   0.25 0.25 0.25]\n",
      " [0.25 0.   0.25 0.25]\n",
      " [0.25 0.25 0.   0.25]\n",
      " [0.25 0.25 0.25 0.  ]]\n"
     ]
    }
   ],
   "source": [
    "import numpy as np\n",
    "Q = np.array( [[0, 1, 1, 1], [1, 0, 1, 1],[1, 1, 0, 1],[1, 1, 1, 0]] )\n",
    "pi=np.array([.25,.25,.25,.25])\n",
    "Q = Q*pi\n",
    "print(Q)"
   ]
  },
  {
   "cell_type": "markdown",
   "metadata": {},
   "source": [
    "Lets make the sum of each row zero by filling in the diagonal with the sum of each row. Documentation for sum and diagonal here:\n",
    "https://docs.scipy.org/doc/numpy/reference/generated/numpy.sum.html#numpy.sum  \n",
    "https://docs.scipy.org/doc/numpy/reference/generated/numpy.fill_diagonal.html?highlight=fill_diagonal  "
   ]
  },
  {
   "cell_type": "code",
   "execution_count": 12,
   "metadata": {},
   "outputs": [
    {
     "name": "stdout",
     "output_type": "stream",
     "text": [
      "[[-0.75  0.25  0.25  0.25]\n",
      " [ 0.25 -0.75  0.25  0.25]\n",
      " [ 0.25  0.25 -0.75  0.25]\n",
      " [ 0.25  0.25  0.25 -0.75]]\n"
     ]
    }
   ],
   "source": [
    "zsum = Q.sum( axis=1 )\n",
    "np.fill_diagonal( Q,-zsum )\n",
    "print(Q)"
   ]
  },
  {
   "cell_type": "markdown",
   "metadata": {},
   "source": [
    "Scale the matrix so that $\\mu t$ = 1 is equivalent to 1 substitution per site.\n",
    "\n",
    "$\n",
    "\\begin{align}\n",
    "\\mu = - \\sum_{i=1}^n \\pi_i Q_{ii} \n",
    "\\end{align}\n",
    "$"
   ]
  },
  {
   "cell_type": "code",
   "execution_count": 13,
   "metadata": {},
   "outputs": [
    {
     "name": "stdout",
     "output_type": "stream",
     "text": [
      "[[-1.          0.33333333  0.33333333  0.33333333]\n",
      " [ 0.33333333 -1.          0.33333333  0.33333333]\n",
      " [ 0.33333333  0.33333333 -1.          0.33333333]\n",
      " [ 0.33333333  0.33333333  0.33333333 -1.        ]]\n"
     ]
    }
   ],
   "source": [
    "beta = 1/sum( zsum*pi )\n",
    "Q = Q*beta\n",
    "print(Q)"
   ]
  },
  {
   "cell_type": "markdown",
   "metadata": {},
   "source": [
    "We can then exponentiate the rate matrix using $t = 1$ to get the transition matrix $P(t)$, or $P(1)$. To do so we will import a function from the linear algebra SciPy package:   \n",
    "https://docs.scipy.org/doc/scipy-0.15.1/reference/linalg.html  \n",
    "that exponentiates a rate matrix: `expm`.  \n",
    "https://docs.scipy.org/doc/scipy-0.15.1/reference/generated/scipy.linalg.expm.html  "
   ]
  },
  {
   "cell_type": "code",
   "execution_count": 14,
   "metadata": {},
   "outputs": [
    {
     "name": "stdout",
     "output_type": "stream",
     "text": [
      "[[0.44769785 0.18410072 0.18410072 0.18410072]\n",
      " [0.18410072 0.44769785 0.18410072 0.18410072]\n",
      " [0.18410072 0.18410072 0.44769785 0.18410072]\n",
      " [0.18410072 0.18410072 0.18410072 0.44769785]]\n"
     ]
    }
   ],
   "source": [
    "from scipy.linalg import expm\n",
    "\n",
    "P = expm(Q*1)\n",
    "print(P)"
   ]
  },
  {
   "cell_type": "markdown",
   "metadata": {},
   "source": [
    "We can check our results using the JC69 model equations.  "
   ]
  },
  {
   "cell_type": "markdown",
   "metadata": {
    "tags": []
   },
   "source": [
    "## Jukes and Cantor 1969 (JC69) model\n",
    "\n",
    "Because the JC69 model is so simple, there is a closed form solution:  \n",
    "\n",
    "$P_{ij}(t) = \\frac {1}{4} - \\frac {1}{4} e^{-4\\alpha t}$\n",
    "\n",
    "$P_{ii}(t) = \\frac {1}{4} + \\frac {3}{4} e^{-4\\alpha t}$  \n",
    "\n",
    "Using these two equations and with some math you can derive the substitution rate $K $as a function of the frequency of differences between two sequences $p$:  \n",
    "\n",
    "$ K = -\\frac{3}{4}\\log(1-p \\frac {4}{3}) $\n",
    "\n",
    "\n",
    "Because $ \\alpha = \\frac {\\mu}{ 3}  $ we get the same transition probabilities as calculated by exponentiating the rate matrix."
   ]
  },
  {
   "cell_type": "code",
   "execution_count": 15,
   "metadata": {},
   "outputs": [
    {
     "name": "stdout",
     "output_type": "stream",
     "text": [
      "0.18410071547106832\n",
      "0.4476978535867951\n"
     ]
    }
   ],
   "source": [
    "Pii = 1/4 - 1*exp(-4/3)/4\n",
    "print(Pii)\n",
    "Pij = 1/4 + 3*exp(-4/3)/4\n",
    "print(Pij)"
   ]
  },
  {
   "cell_type": "markdown",
   "metadata": {
    "tags": []
   },
   "source": [
    "# <font color=red> Question 2 </font> \n",
    "Write a function that takes two ungapped sequences as input and calculates the nucleotide substitution rate (per bp) using the Jukes-Cantor model.  \n",
    "\n",
    "The JC69 equation is: $K = -\\frac{3}{4}\\log(1-p \\frac {4}{3}) $\n",
    "\n",
    "(4 points)"
   ]
  },
  {
   "cell_type": "code",
   "execution_count": 16,
   "metadata": {
    "tags": []
   },
   "outputs": [],
   "source": [
    "# Import the log function from the math package\n",
    "# This step will be described below, for now you can use log(x) to get the log of a x.\n",
    "from math import log\n",
    "\n",
    "# Two aligned sequences are provided\n",
    "A = 'GACCCATCTCTCACTAAATCAGTACTAAATGCACCCACATCATTATGCACGGCACTTGCC'\n",
    "B = 'GATCCACCTCTCACTTAATGAGTAAAAGGTGCACCCCCATCATTATGCAGGGCACATGAC'\n",
    "\n",
    "# Function that calculates JC69 substitution rate\n",
    "def JC69(A,B):\n",
    "    subs = 0\n",
    "    return(subs)\n",
    "\n",
    "# Answer"
   ]
  },
  {
   "cell_type": "markdown",
   "metadata": {},
   "source": [
    "# <font color=red> Question 3 </font> \n",
    "Write a function that takes time $t$ as input and calculates the 4x4 transition matrix $P(t)$ under the JC69 model. Matrix rows and columns are A, G, C, T and rows indicate the t = 0 state and columns indicate the state transition at time $t$. Use this function to calculate the transition matrix for t = 0.8.    \n",
    "\n",
    "Use this function to calculate the log10 probability of the two aligned sequences in SSA3.fasta (Seub_SSA3 and Spar_SSA3) under the JC69 model with t = 0.8. Because we assume sites to change independently of one another the probability of the two sequences is the product of the probabilities at each site. Gaps should not be included. The reason you need to use log10 probabilities is to avoid errors associated with multiplying probabilities. In other words add log10 probabilities rather than multiplying them. \n",
    "\n",
    "(4 points)"
   ]
  },
  {
   "cell_type": "code",
   "execution_count": 17,
   "metadata": {},
   "outputs": [],
   "source": [
    "# Answer"
   ]
  },
  {
   "cell_type": "markdown",
   "metadata": {},
   "source": [
    "# Maximizing the likelihood\n",
    "\n",
    "The JC69 model has a solved equation that lets us estimate the substitution rate based on the number of differences. But what if we want to use the HKY85 model? There is no equation, but we can calculate the probability of the data given time $t$, equilibrium base frequencies $\\pi$ and the ratio of transitions to transversions, $\\kappa$. (Note that the substitution rate is $\\mu t$ which we scale to 1 so that $t$ actually represents the substitution rate.)  \n",
    "\n",
    "Under the HKY85 model:  \n",
    "\n",
    "$\n",
    "\\begin{equation}\n",
    "Q = \n",
    "\\begin{bmatrix}\n",
    "* & {\\kappa \\pi_G}  & \\pi_C & \\pi_T \\\\\n",
    "{\\kappa \\pi_A} & *  & \\pi_C & \\pi_T \\\\\n",
    "\\pi_A & \\pi_G  & * & {\\kappa \\pi_T} \\\\\n",
    "\\pi_A & \\pi_G  & {\\kappa \\pi_C} & *\n",
    "\\end{bmatrix}\n",
    "\\end{equation}\n",
    "$\n",
    "\n",
    "One solution is to find the maximum likelihood of $t$ by evaluating the probability of the data over a range of possible times (t values). There are various algorithms that can be used to do this, but if the search space is small we can get a pretty good estimate by evaluating a large number of $t$ values to find the one with the highest probability.\n"
   ]
  },
  {
   "cell_type": "markdown",
   "metadata": {},
   "source": [
    "# <font color=red> Question 4 </font> \n",
    "\n",
    "Write a function that returns a transition probability matrix $P(t)$ given time $t$, the ratio of transitions/transversions $\\kappa$, and a vector of equilibrium nucleotide frequencies $[A, G, C, T]$, i.e. under the HKY85 model.  \n",
    "\n",
    "Use this function to evaluate the log10 probability of the SSA3 sequences with $t$ taking values that range from 0.01 to 1 with a step size of 0.001. Print the largest log10 probability and the value of $t$, i.e. the value of $t$ that is most likely given the data. Use $\\kappa$ = 4 and nucleotides frequencies set to the observed frequencies of the SSA3 sequences.\n",
    "\n",
    "np.arange is useful for iterating over range of non-integers.\n",
    "\n",
    "(4 points)"
   ]
  },
  {
   "cell_type": "code",
   "execution_count": 18,
   "metadata": {},
   "outputs": [],
   "source": [
    "# Answer"
   ]
  },
  {
   "cell_type": "markdown",
   "metadata": {},
   "source": [
    "# Rate heterogeneity\n",
    "\n",
    "Substitution rates are often heterogeneious. In coding sequences the first two positions in a coding predominantly cause nonsynonymous (amino acid) substitutions whereas changes in the third position predominantly cause synonymous substitutions (no amino acid change). It is thus often desirable to estimate substitution rates for different classes of sites.  "
   ]
  },
  {
   "cell_type": "markdown",
   "metadata": {
    "tags": []
   },
   "source": [
    "# <font color=red> Question 5 </font> \n",
    "Use the JC69 model to calculate the substitution rate at all first, second and third codon positions in the two aligned sequences in SSA3. Assume the first position is 1 so the codon positions will be: 123123123123 etc in the sequences.  \n",
    "\n",
    "\n",
    "(4 points)"
   ]
  },
  {
   "cell_type": "code",
   "execution_count": 19,
   "metadata": {},
   "outputs": [],
   "source": [
    "# Answer"
   ]
  },
  {
   "cell_type": "markdown",
   "metadata": {
    "tags": []
   },
   "source": [
    "# <font color=red> Bonus Question </font> \n",
    "\n",
    "Use the HKY85 model to estimate the substitution rate at first, second and third codon positions of the SSA3 sequences. For each of the three classes of sites use a ratio of transitions/transversions $\\kappa$, and a vector of equilibrium nucleotide frequencies $[A, G, C, T]$, estimated from the data. For example, use the nucleotide frequencies and transition/transversion ratios at first codon positions to estimate the substitution rate at first codon positions. To find the optimum substitution rate evaluate values of $t$ that range from 0.01 to 1 with a step size of 0.001.  \n",
    "\n",
    "Your answer should print the values of $\\pi$, $\\kappa$, log(p) and $t$ for first, second and third positions.\n",
    "\n",
    "(2 points)"
   ]
  },
  {
   "cell_type": "code",
   "execution_count": 20,
   "metadata": {},
   "outputs": [],
   "source": [
    "# Answer"
   ]
  }
 ],
 "metadata": {
  "kernelspec": {
   "display_name": "Python 3 (ipykernel)",
   "language": "python",
   "name": "python3"
  },
  "language_info": {
   "codemirror_mode": {
    "name": "ipython",
    "version": 3
   },
   "file_extension": ".py",
   "mimetype": "text/x-python",
   "name": "python",
   "nbconvert_exporter": "python",
   "pygments_lexer": "ipython3",
   "version": "3.9.7"
  }
 },
 "nbformat": 4,
 "nbformat_minor": 4
}
