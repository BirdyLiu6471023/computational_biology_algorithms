{
 "cells": [
  {
   "cell_type": "markdown",
   "metadata": {},
   "source": [
    "# Lab 02 Introduction to Python\n",
    "\n",
    "The goal of Lab 02 | Introduction to Python is learn how to conduct basic operations and write simple functions in Python. You will write functions to count the number of nucleotides in a sequence. The lab is divided into the following sections:\n",
    "1. Getting started with Jupyter Lab\n",
    "2. Prelab review\n",
    "3. Nucleotide counts\n",
    "\n",
    "## Assignment\n",
    "Follow the instructions in this document and answer the questions in the cell below each question. Start by copying Lab02 from the public directory to your home or preferred working directory.\n",
    "\n",
    "### Gradoscope\n",
    "Submit your answers on Gradescope (www.gradescope.com, also accessible through a gradescope link in blackboard). You should be able to login using your institutional NETID on gradescope (Login > School credentials > Rochester NETID). If you have problems ask myself or the TAs for help.\n",
    "\n",
    "When uploading the assignment to Gradoscope you will be asked to select the page(s) that contain the answer to each question. Click the question on the left and click the page(s) on the right for each question. When you are done hit 'Submit' on the bottom right.\n",
    "\n",
    "### Instructions for PDF upload\n",
    "Within Jupyter export your notebook in HTML by selecting >File, >Export to ..., >HTML. Note that PDF export often does not work as it depends on the system and your browser. You can use PDF export, just check to make sure the cells and your answers are filled out.  \n",
    "\n",
    "Open the exported HTML (downloads) in your browser and print to PDF. Check to make sure all your cells have been run and the **results** displayed.  \n",
    "\n",
    "Reminder, provide comments for any code you write to ensure partial credit."
   ]
  },
  {
   "cell_type": "markdown",
   "metadata": {},
   "source": [
    "# <font color=red> Question 1 </font>\n",
    "What is your name?\n",
    "\n",
    "ENTER YOUR NAME HERE\n",
    "\n",
    "Double click this cell to edit. Shift-enter to render it again.\n",
    "\n",
    "Rename this file replacing NETID with your network username.\n",
    "\n",
    "If interested you can read about Markdown using Jupyter notebooks here:\n",
    "https://jupyter.brynmawr.edu/services/public/dblank/Jupyter%20Notebook%20Users%20Manual.ipynb\n",
    "\n",
    "(1 point)"
   ]
  },
  {
   "cell_type": "markdown",
   "metadata": {},
   "source": [
    "## Getting starting with Jupyter Lab\n",
    "\n",
    "You are viewing a Jupyter notebook. It can be viewed using either *Jupyter Lab* or *Jupyter Notebook*.\n",
    "\n",
    "The notebook consists of cells of different types. Markdown cells show text and images. Code cells can be executed using Python3. The current cell is a Markdown cell. The next one is a code cell.\n"
   ]
  },
  {
   "cell_type": "code",
   "execution_count": 1,
   "metadata": {},
   "outputs": [
    {
     "name": "stdout",
     "output_type": "stream",
     "text": [
      "This is code cell and when run the output is printed below.\n"
     ]
    }
   ],
   "source": [
    "print( \"This is code cell and when run the output is printed below.\")"
   ]
  },
  {
   "cell_type": "markdown",
   "metadata": {},
   "source": [
    "You can insert or delete cells using the + and scissors icons from the menu. Change the type of cell (Markdown, code) using the dropdown menu.\n",
    "\n",
    "Cells are meant to be run in order from top to bottom. You can rerun all the cells starting from the first one using *Run all* from the Notebook (Jupyter Lab) or Cell (Jupyter Notebook) menu. \n",
    "\n",
    "Running cells out of order can cause problems, especially if you use the same variable name in different cells. Take the following three cells, where x is assigned 5, printed and then assigned 6."
   ]
  },
  {
   "cell_type": "code",
   "execution_count": 2,
   "metadata": {},
   "outputs": [],
   "source": [
    "x = 5"
   ]
  },
  {
   "cell_type": "code",
   "execution_count": 3,
   "metadata": {},
   "outputs": [
    {
     "name": "stdout",
     "output_type": "stream",
     "text": [
      "5\n"
     ]
    }
   ],
   "source": [
    "print(x)"
   ]
  },
  {
   "cell_type": "code",
   "execution_count": 4,
   "metadata": {},
   "outputs": [],
   "source": [
    "x = 6"
   ]
  },
  {
   "cell_type": "markdown",
   "metadata": {},
   "source": [
    "Rerun the prior three cells in order by clicking inside the cell and then shit-enter. Then run the cell with \"print(x)\". It should now print 6 because the last cell to be run assigned x the value 6.\n",
    "\n",
    "The number in brackets to the left of the code indicates the order of code that was executed. To restart the notebook and remove any prior history, restart the kernel under the Kernel menu (Jupyter Notebook) or the Notebook menu (Jupyter Lab), and the run all cells."
   ]
  },
  {
   "cell_type": "markdown",
   "metadata": {},
   "source": [
    "## Review of prelab\n",
    "### Strings and for loops\n",
    "String assignment and print"
   ]
  },
  {
   "cell_type": "code",
   "execution_count": 5,
   "metadata": {},
   "outputs": [
    {
     "name": "stdout",
     "output_type": "stream",
     "text": [
      "CGAT\n"
     ]
    }
   ],
   "source": [
    "seq = 'CGAT'\n",
    "print( seq )"
   ]
  },
  {
   "cell_type": "markdown",
   "metadata": {},
   "source": [
    "Get characters and substrings from a string. Note that strings are zero-based arrays, zero is the first position."
   ]
  },
  {
   "cell_type": "code",
   "execution_count": 6,
   "metadata": {},
   "outputs": [
    {
     "name": "stdout",
     "output_type": "stream",
     "text": [
      "A\n",
      "CG\n"
     ]
    }
   ],
   "source": [
    "print(seq[2])\n",
    "print(seq[0:2])"
   ]
  },
  {
   "cell_type": "markdown",
   "metadata": {},
   "source": [
    "Iterate characters in a string. Conveniently, a string can be accessed like a list of characters!"
   ]
  },
  {
   "cell_type": "code",
   "execution_count": 7,
   "metadata": {},
   "outputs": [
    {
     "name": "stdout",
     "output_type": "stream",
     "text": [
      "C 0\n",
      "G 1\n",
      "A 2\n",
      "T 3\n"
     ]
    }
   ],
   "source": [
    "for i in range( len(seq) ): \n",
    "    print(seq[i], i)"
   ]
  },
  {
   "cell_type": "markdown",
   "metadata": {},
   "source": [
    "Count characters in a string."
   ]
  },
  {
   "cell_type": "code",
   "execution_count": 8,
   "metadata": {},
   "outputs": [
    {
     "name": "stdout",
     "output_type": "stream",
     "text": [
      "There are 4 characters\n"
     ]
    }
   ],
   "source": [
    "count = 0\n",
    "for i in range( len(seq) ): \n",
    "    count += 1\n",
    "    # This is the same as count = count + 1\n",
    "print( 'There are', count, 'characters')"
   ]
  },
  {
   "cell_type": "markdown",
   "metadata": {},
   "source": [
    "Count the number of 'A' characters in a string."
   ]
  },
  {
   "cell_type": "code",
   "execution_count": 9,
   "metadata": {},
   "outputs": [
    {
     "name": "stdout",
     "output_type": "stream",
     "text": [
      "Number of 'A':  1\n"
     ]
    }
   ],
   "source": [
    "countA = 0\n",
    "for i in range( len(seq) ): \n",
    "    if ( seq[i] == 'A'):\n",
    "        countA += 1\n",
    "print( 'Number of \\'A\\': ', countA)\n",
    "# Notice that a backslash is used to escape the single quotes so that they are literally interpreted\n",
    "# rather than being interpreted as the end of the printed string"
   ]
  },
  {
   "cell_type": "markdown",
   "metadata": {},
   "source": [
    "Using a dictionary to count nucleotides"
   ]
  },
  {
   "cell_type": "code",
   "execution_count": 10,
   "metadata": {},
   "outputs": [
    {
     "name": "stdout",
     "output_type": "stream",
     "text": [
      "5 7 3 2 "
     ]
    }
   ],
   "source": [
    "nucleotideCounts = { 'A': 0, 'G': 0, 'C': 0, 'T': 0 }\n",
    "seq = 'CGATCGATAGCAGGGGA'\n",
    "# For loop to count - see next cell for explanation\n",
    "for n in seq:\n",
    "    nucleotideCounts[n] += 1\n",
    "# To print we can iterate over all characters in the sequence.\n",
    "for base in ['A','G','C','T']:\n",
    "    print(nucleotideCounts[base], end = \" \")\n"
   ]
  },
  {
   "cell_type": "markdown",
   "metadata": {},
   "source": [
    "Because seq can be interpreted as a list, and range() returns a list, we can just use seq rather than the range() method. This is illustrated in the printing loop where we iterate over each element in the list of characters.\n",
    "\n",
    "What is the *end = \" \"* and how would one know to use that to print characters on the same line? Besides using a google search to find this out, Python has extensive online documentation, including each built-in function. \n",
    "\n",
    "Python documentation is here:\n",
    "https://docs.python.org/3/  \n",
    "And the part on *print* is here: https://docs.python.org/3.7/library/functions.html#print"
   ]
  },
  {
   "cell_type": "markdown",
   "metadata": {},
   "source": [
    "### Functions\n",
    "The following code implements a character count of any input string. "
   ]
  },
  {
   "cell_type": "code",
   "execution_count": 11,
   "metadata": {},
   "outputs": [
    {
     "name": "stdout",
     "output_type": "stream",
     "text": [
      "4\n",
      "21\n"
     ]
    }
   ],
   "source": [
    "def charactercount(string):\n",
    "    count = 0\n",
    "    for i in string: \n",
    "        count += 1\n",
    "    return count\n",
    "\n",
    "short = charactercount('UofR')\n",
    "long = charactercount('UniversityofRochester')\n",
    "print( short )\n",
    "print( long )"
   ]
  },
  {
   "cell_type": "markdown",
   "metadata": {},
   "source": [
    "## Nucleotide counts"
   ]
  },
  {
   "cell_type": "markdown",
   "metadata": {},
   "source": [
    "# <font color=red> Question 2 </font>\n",
    "Write two functions in Python. Use the code cells below to enter your answer. A template for both is provided.\n",
    "\n",
    "The first function should take as input a DNA sequence (string), count the number of of A, C, G and T bases using a list, and return that list.\n",
    "\n",
    "The second function should take as input a DNA sequence (string), count the number of bases using a dictionary, and return the dictionary.\n",
    "\n",
    "( 6 points)"
   ]
  },
  {
   "cell_type": "code",
   "execution_count": 12,
   "metadata": {},
   "outputs": [
    {
     "data": {
      "text/plain": [
       "[0, 0, 0, 0]"
      ]
     },
     "execution_count": 12,
     "metadata": {},
     "output_type": "execute_result"
    }
   ],
   "source": [
    "# A function that uses a list\n",
    "def listfun (string):\n",
    "    bases = [0, 0, 0, 0] # To store counts for A, C, G, T in that order\n",
    "    # Enter you code here\n",
    "    \n",
    "    return bases\n",
    "test = ('GTCTTCAATAGACTCCTTGTGCAAGCGCTGATAGTCCTGCAACCCGTCCAAGTGTGGAGAATAGTGGGTAGCAATT'+\n",
    "'GCGGGCTGCAGTCTATCTGAGATGGGCCGTTGTGGCACGATCTTGACCGAGGTCAAATGTTCATACTCATGTTCCTTCTTCTGCTG'+\n",
    "'CGCAGTGGAGGCAGACTGGGACATTTTTGCTTTCAACTTGTCAATTTCACTTGACTGTTCTTCTAGTTTTGATGATTG')\n",
    "listfun( test )"
   ]
  },
  {
   "cell_type": "code",
   "execution_count": 13,
   "metadata": {},
   "outputs": [
    {
     "data": {
      "text/plain": [
       "{'A': 0, 'G': 0, 'C': 0, 'T': 0}"
      ]
     },
     "execution_count": 13,
     "metadata": {},
     "output_type": "execute_result"
    }
   ],
   "source": [
    "# A function that uses a dictionary\n",
    "def dictfun (string):\n",
    "    bases = { 'A': 0, 'G': 0, 'C': 0, 'T': 0 } \n",
    "    # Enter you code here\n",
    "    \n",
    "    return bases\n",
    "test = ('GTCTTCAATAGACTCCTTGTGCAAGCGCTGATAGTCCTGCAACCCGTCCAAGTGTGGAGAATAGTGGGTAGCAATT'+\n",
    "'GCGGGCTGCAGTCTATCTGAGATGGGCCGTTGTGGCACGATCTTGACCGAGGTCAAATGTTCATACTCATGTTCCTTCTTCTGCTG'+\n",
    "'CGCAGTGGAGGCAGACTGGGACATTTTTGCTTTCAACTTGTCAATTTCACTTGACTGTTCTTCTAGTTTTGATGATTG')\n",
    "dictfun( test )"
   ]
  },
  {
   "cell_type": "markdown",
   "metadata": {},
   "source": [
    "# <font color=red> Question 3 </font>\n",
    "Suppose we wanted to count each character (a-z) in a book. What type of data structure would be easier to write the code for (list or dictionary) and why?\n",
    "\n",
    "(4 points)"
   ]
  },
  {
   "cell_type": "markdown",
   "metadata": {},
   "source": [
    "Double click here to enter your answer:\n",
    "\n",
    "\n"
   ]
  },
  {
   "cell_type": "markdown",
   "metadata": {},
   "source": [
    "### File IO\n",
    "\n",
    "In many cases one would want to read sequences from a file. FASTA formatted files are a common convention in Computational Biology and Bioinformatics and is used for storing named sequences of nucleotides.  \n",
    "\n",
    "The hallmark of FASTA format is that it contains two types of lines; some sequence identifier line that will always begin with the '>' symbol, and actual nucleotide sequence. The sequence identifier line needs to only take up one line, and so is separated from nucleotide sequence by the newline character (\\n).  \n",
    "\n",
    "The nucleotide sequence itself consists of the 4 nucleotides, Adenine, Thymine, Cytosine and Guanine, indicated by A, T, C and G.\n",
    "\n",
    "FASTA files often store very long sequences such as entire chromosomes. For this reason, it is syntactically and aesthetically practical for FASTA sequences to be interrupted by line breaks. A common default is to have sequence break to the next line every 80 nucleotides. \n",
    "\n",
    "FASTA files can also store more than one sequence, with the '>' symbol indicating when a new sequence entry is starting and its name. "
   ]
  },
  {
   "cell_type": "markdown",
   "metadata": {},
   "source": [
    "Lets read a FASTA file. To do so, make sure that the file lab02.fasta is visible in your Jupyter Lab/Notebook file browser, i.e. its in the same directory as your python notebook. If you haven't already, copy Lab02 into your directory."
   ]
  },
  {
   "cell_type": "code",
   "execution_count": 14,
   "metadata": {},
   "outputs": [
    {
     "name": "stdout",
     "output_type": "stream",
     "text": [
      "lab02 nucleotide sequence\n",
      "GCATGCAATACAGTGACATATATATATACCCTAACACTACCCTAACCCTACCCTATTTCAACCCTTCCAACCTGTCTCTCAACTTACCCTCACATTACCCTACCTCTCCACTTGTTACCCTGTCCCATTCAACCATACCACTCCCAACCACCATCCATCCCTCTACTTACTACCACCAATCAACCGTCCACCATAACCGTTACCCTCCAATTAGCCATATTCAACTTCACTACCACTTACCCTGCCATTACTCTACCATCCACCATCTGCTACTCACCATACTGTTGTTCTACCCTCCATATTGAAACGTTAACAAATGATCGTAAATAATACACATATACTTACCCTACCACTTTATACCACCACACATCACATGCCATACTCACCTTCACTTGTATACTGATATGCCATACGCACACGGATGCTACAGTATATACCACTCTCAAACTTACCCTACTCTCACATTCTACTCCACTCCATGACCCATCTCTCACTAAATCAGTACTAAATGCACCCACATCATTATGCACGGCACTTGCCTCAGCGGTCTATACCCTGAGCCATTTACCCATAACTCCCACGATTATCCACATTTTAATATCTATATCTCATTCGGCGGGCCCAAATATTGTATAACTGCTCTTAATACATACGTTATACCACTTTTGCACCATATACTAACCACTCAAATTATATACACTTATGCCAATATAACCAAAAAATTACCACTAAAATCACCTAAACATAAAAATTATTTATCTTTCAACTTTACGAAATAAACACACTCAATTGCGTATCTATACCACCATGACGTCATTAACGTAAAAGTTCCTTAATATTACCATTTGCTTGAACGGATACCATTTCAGAATATTTCTAACTTTCACAGACCATACATTAGAATAATATGCCACCTCACTGTCGTAACACTCTATATTCACCGAGAAACAATACGGTAGTGGCTCAAACTCATGCCGGTGCTATGATACAATTGTATCCTATTTCCATTCTCATATGCTATCCGCAATATCCTAAAAGCATAACTGATGCATCTTTAATCTTGTATGTGACACTACTCATACGAAGAGACTATATCTAAAGAAGACGATACAGTGATATGTACGTTGTTTTTGTAGAATTATAATGAAACGTCAAATAACCCTACTATATTATAACTTATCAGCGCCGTATACTAAAACGGACGTTACGATATTGTCTCACTTCATCTTACCACCCTCTATCTTATTGTTGATAAAACACTAACCCCTCAGCTTTATTTCTAGTTACAGTTACAACAAACTATCCCAAACCATAAATCTTAATATTTTAGGTGTCAAAAAATGAGGATCTCCAAATGAGAGTTTGGTACCATGACTTGTAACTCCACTACCCTGATCTGCAATCTTGTTCTTAGAAGTGACGCATACTCTATATGGCCCGACGCGACGCGCCAAAAAATGAAAAAAGAAGCAGCGACTCATTTTTATGGAAGGACAAAGTGCTGCGAAGTCATACGCTTCCAATTTCATTATTGTTTATTGGACATACTCTGTTAGCTTTATTACCGTCCACGCTTTTTCTACAATAGTGTAAAAGTTTCTTTCTTATGTTCATCGTATTCATAAAATGCTTCACGAACACCGTCATTGATCAAATAGGTTTATAATATTAATATACATTTATATAATCGGCGGTATTTATATCATCAAAAAAAGTAGTTTTTTATTTTATTTTTTCATTACTTTTCACTGTCTATGGATTTTCATTCGTAAAGGCATCACTCCCTAGTTTGCGATAGTGTAGATACCGTCCTTGGATAGAGCACTGGAGATGGCTGGCTTTAATCTGCTGGAGTACCATGGAACACCGGTGATCATTCTGGTCACTTGGTCTGGGGCAATACCAGTCAACATGGTGGTGAAGTCACCGTAGTTGAAAACGGCTTCAGCAACTTCGACTGGGTAGGTTTCAGTTGGGTGGGCGGCTTGGAACATGTAGTATTGGGCCAAGTGAGCTCTGATATCAGAGACGTAGACACCCAATTCCACCAAGTTGACTCTTTCGTCAGATTGAGCTAGAGTGGTGGTTGCAGAAAGCAGTAGCAGCGATGGCAGCGACACCAGCAGCGATTGAAGTTAATTTGACCATTGTATTTGTTTTGTTTGTTAGTGCTGATGTAATCTTAACAAGAAATAGTGAAATGAAAGCGCATACCTCAAAGGCATATAGTTGAAGCAGCTCTATTTATACCCGTTCCTCCATCTGTCATCACTACTTAAACGATTCGTTAACAGACGCTCATTTAGCACCTCACATATTCTCCATATCTCATCTTTCACACAATCTCATTATCTCTATGGAGATGCTCTTGTTTCTGAACGAATCATACATCTTTCATAGGTTTCGTATGTGGAGTATTGTTTTATGGCACTCATGTGTATTCGTATGCGCAGAATGTGGGAATGCCTATTATAGGGGTGCCGGGGGGTGCCTTGAAAAACCCTTTTGCGCGCCTGTTAAGTTTCCGTTTTCAGTCAAAAAGAATATCCGAATTTTAGATTTGGACCCTCGTTCAGAAGCTTACTGTCTAAGCCATCATTTGGTGTGTCCTAAACGGTTTCCATGCAAAGCAACATCTTTGTTACTCATTCCTGAAGGTTGAATAAAAAATAGCAACCATGTGCAGGGAGTCGTATATTGTTAGATTCTAGAGACTTGTACGCATCATCAAAGCTGTAAATAGAATAAACATACGCAAGGCGTCAAAAGTGCATAGTTAAGAAAATTCCTGACATGTGAAAATATGTGTTTATGAAATGTGTCAAGGCCCGTCTATAGCGTAGTTAACCCCTCTGCAGGAGTAAGTGACTTTTTTTACGCTCAAAAGGCAACGAGGGCACATACTTAAAAGTCATTTTCAAACACATCTGCAGTTTGCAACGACAGATAACAATATTATGATAGGATGGTATGATGTTATTAGCTGCCACATATTTTTTAACATAGCATTAGTCACGTCTCTTCAATTGTTGGGATGAAACTCTAAAATATCATTCCTTTAGTAGTATTCCAGTTACCAGTATATTATCACATGCCGAAAAAGAAGATGACATAAAGATCGACAAACAGTCTTCAAATATAATGGAAGCTGGAATGCAAGGATTGATAATGTAACAGGATACTGAATGACAAAGTATAAATGAAAAAAAAAAAAAAAAAAAAGTAGTAATACTATTATGTGGAAATACCGATTCCATTTTGAGGATTCCAATTGTTGGAATAAAAATCAACTATCATCTACTAACTAGTATTTACGTTACTAGTATATTATCATATACGGTGTTAGAAGATGACGCAAATGATGAGAAATAGTCATCTAAATTAGTGGAAGCTGAAACGCAAGGATTGATAATGTAATAGGATCAATGAATATTAACATATAAAACGATGATAATAATATTTATAGAATTGTGTAGAATTGCAGATTCCCTTTTATGGATTCCTAAATCCTGGAGGAGAACTTCTAGTATATCTACATACCTAATATTATAGCCTTAATCACAATGGAATCCCAACAATTACATCAAAATCCACATTCTCTACACCAATACCATCGACGAGAGCTTCTAGTAAATTGTATACATAACAGTATAACCCTTACCAACAATGGAATCTCAAAGATTATTAAATTATTCACAGACTCTGAGGATTCGGGTAAAATAGGGTATTTAACTGGTTACCGGAAAGGTTTAGAAAATTCGTGGAGGGTTGGCCGAGTGGTCTAAGGCGGCAGACTTAAGATCTGTTGGACGGTTGTCCGCGCGAGTTCGAACCTCGCATTCATTTTCCGGATCCACTTTATAGTGGGTCACTTCATCTCTTGTAGGGTTCACTGAAAGATAATCAATCAAATTATCATATGACCAATGGGTCACTTTTTTGATGAGACCCATGTTTATTCTTCTATACGTTCGTGATACTGCACTTACGACTACCAGTAACATCAGAATAACCATAGAGCTTATGCTATCTTGAAATATATCATCGCCGTAAAGTATGATGTGTAGCGCATTAGTCTTCTGCATTCATATTATCAGTGGTATACCGTTTGGTATATGCTTTCCAATCATGAAGTGTTGGCTCTACTCTATATAAATTCGACATCCATTGATTTTCTCAATAAATGAGTTACCCAAGTAAGCTTTCCATTGATACAAGTGATCTACATTCTTGCGACGCCAAATTATAAAGCACTAAAAATCATATCATACCCAATTGCGGGCAGCACATGTATATATTATACACTACTTATAACTAACCTTCTTCATATATAACAATATGCCTGATAATACTAATGCATTTAAATCATATCATGAAAGAAAATTACATGGGTTTTATTGACATAATTGCATTTAGAATACATAAAATTCTAAAGAATTAATATATCCAAAGTATTAGACATAACCAAGAATAATAGTGAATAATTTTAGATTTTGTTACATATAATTCTGCTTGCCTATCTCTTCCACTCTTTTCAAAACGTTGCATGTAAGCGTTACTAATATTCCGCTTTATTTTGTTGCAATTCCTAATTTTTTCATTACATTATCTTGCGAGTACGGAAGCGATTAACGTTCTCCCAATAGAAGGAACAAACATAGATATTGAAGTTTTACTGCTTTTGCTTACCTGACCTTTTTCAAATTTAATTTTTTCCCGCTAATAAGACCATAAACTACCCCGAACCAAATTCTAAAAGATAGTCAGCTGGATTAGAGTTGTCATCTCCAAACATTAATTTTGCATTATCTTCGGCTTCAATCAAATCGCCTGATAAGAACTCCTTTAATTCTTCATGAATGTTTGTATGTGGATGACTCTCCATAGTGCCAGCATGATTGTGGTTACCGACCGAATCATATAACGGTGGCTCCCAATTGTGCAATTCAGCCTTACTATTTTGTTCATTCATCAAAGCATTTGGGACAGATCTAATATCTATAATTCTTTCCTCACTATTCTCGCTATTATTTTGCCCCGAACTGGCATGGTGGTTATTGGTAAAAGGAGATAATGCTGCGACAGAACTTTTCTTCTCTTCCAATTCTTTTATCTTCGCCAATAACGCCTTCTTTTTTCGTGCTTGTATTTCTAAAATTTCGGCCAGGTATTGTAAATATTCGACCGTTCTATCCAAAATGATACCCTTATTTGGTTTGATTTGTTTACCTAGGTCATCGTAATTCAATAAAGATGGTGGAACCAACTGGCCGAGTTCTTTTATCTTTTGCTTTATTAATTCTCTTCTTCTCCTTTCGACGGCATTATGAAACTCTCTTTTGCGCCTCAGTTTCTCATCAGAAGTTAACCCGCCTAAAATCTTTGGAACACTTCCAGGTCCTATATTTTCAGTCATATTGCTACTTATTGAAGTGTGTCTTGTTCTGGGTGTGTTTATGCTACCATGCCTAAAAGAAGATGAAAGGAAACTTCCTGCACGAAATGACGATGATGGTGATCTTACCTTTGGGGAATATGTGGAAGATACGGATGCTGGGCCCAAGCTTTGTGGATTATAAGAAAATGATGATGAATATGTGTTTGGTGTCATCATATCAGAATTGATGCTAGAAGATAAAGAGGAGCTCAAATCATCAGTTAAGTTATACATTGTGTCATCGGTGCCATGCTGAAATAAAAAGTCATGTGGTAACTCAGCTTTTAAGCCTTCTTGTTGCTGTAATGGAGTATTCATTGCTC\n"
     ]
    }
   ],
   "source": [
    "filename = 'lab02.fasta'\n",
    "fasta = open( filename, 'r' )\n",
    "head = '' # empty header defined\n",
    "seq = '' # empty sequence\n",
    "for line in fasta.readlines(): # Using the readlines() method on the File object returns a list of lines\n",
    "    line = line.strip() \n",
    "    # To remove the newline '\\n' and any leading or trailing white space we use the strip() function.\n",
    "    # The strip function returns a string after removal.\n",
    "    if ( line[0] == '>' ):\n",
    "        header = line[1:]\n",
    "    else:\n",
    "        seq = seq + line\n",
    "\n",
    "fasta.close() # Close the filehandle using the close() method on the File object.\n",
    "print(header)\n",
    "print(seq)"
   ]
  },
  {
   "cell_type": "markdown",
   "metadata": {},
   "source": [
    "# <font color=red> Question 4 </font>\n",
    "Run the code in the above cell on you computer, making sure the file is read and sequence is output. If not, modify the filename location, e.g. filename = '/home/netid/labs/lab02.fasta' so that its the correct location.\n",
    "\n",
    "What is the 587th - 599th base in the sequence. Use a command in the cell below to find your answer. And remember the first position is stored at 0 in a list. \n",
    "\n",
    "(2 points)"
   ]
  },
  {
   "cell_type": "code",
   "execution_count": 15,
   "metadata": {},
   "outputs": [],
   "source": [
    "# Using the seq string write a command that will output the result\n"
   ]
  },
  {
   "cell_type": "markdown",
   "metadata": {},
   "source": [
    "### Pseudocode\n",
    "\n",
    "Pseudocode is a helpful tool for creating a program. Having the general idea and flow of the algorithm/program written out in plain language is a great way to get started and detect the semantics that the program may need to account for. It also helps avoid errors in logic before spending the time to write code that can't be used.  \n",
    "\n",
    "Here is an example of pseudocode for a program that will read a FASTA file, count nucleotides and output the total counts. Note that the total counts include all sequences in the FASTA file."
   ]
  },
  {
   "cell_type": "code",
   "execution_count": 16,
   "metadata": {},
   "outputs": [
    {
     "data": {
      "text/plain": [
       "'\\nprogram nucleotideCounter\\n    set fastaFile to file given at comamnd line\\n    open fastaFile\\n    define countNucleotidesList function with sequence as input\\n        initialize list of nucleotide counts to zero\\n        for each nucleotide in sequence\\n            if nucleotide is A\\n                increase nucleotideCounts of A by 1\\n            if nucleotide is G\\n                increase nucleotideCounts of G by 1 \\n            if nucleotide is C\\n                increase nucleotideCounts of C by 1 \\n            if nucleotide is T\\n                increase nucleotideCounts of T by 1 \\n        return nucleotideCounts\\n    initialize a sequence string\\n    for each line of fastaFile\\n        if line starts with ‘>’\\n            continue\\n        else\\n            add line to the end of sequence string\\n    get results of calling countNucleotidesList (sequence string)\\n    print results\\n    close fastaFile\\n'"
      ]
     },
     "execution_count": 16,
     "metadata": {},
     "output_type": "execute_result"
    }
   ],
   "source": [
    "# Triple quotes are like multiline comments, whereas # is a single line comment\n",
    "# You can ignore any output.\n",
    "\"\"\"\n",
    "program nucleotideCounter\n",
    "    set fastaFile to file given at comamnd line\n",
    "    open fastaFile\n",
    "    define countNucleotidesList function with sequence as input\n",
    "        initialize list of nucleotide counts to zero\n",
    "        for each nucleotide in sequence\n",
    "            if nucleotide is A\n",
    "                increase nucleotideCounts of A by 1\n",
    "            if nucleotide is G\n",
    "                increase nucleotideCounts of G by 1 \n",
    "            if nucleotide is C\n",
    "                increase nucleotideCounts of C by 1 \n",
    "            if nucleotide is T\n",
    "                increase nucleotideCounts of T by 1 \n",
    "        return nucleotideCounts\n",
    "    initialize a sequence string\n",
    "    for each line of fastaFile\n",
    "        if line starts with ‘>’\n",
    "            continue\n",
    "        else\n",
    "            add line to the end of sequence string\n",
    "    get results of calling countNucleotidesList (sequence string)\n",
    "    print results\n",
    "    close fastaFile\n",
    "\"\"\""
   ]
  },
  {
   "cell_type": "markdown",
   "metadata": {},
   "source": [
    "# <font color=red> Question 5 </font>\n",
    "Write pseudocode for a function that will return the base present given a sequence and position as input (1-based such that the sequence AGG has position A=1, G=2, G=3). If the position is not in the sequence, the program should not throw an error but should print \"There is no base at that position\".\n",
    "\n",
    "(3 points)"
   ]
  },
  {
   "cell_type": "code",
   "execution_count": 17,
   "metadata": {},
   "outputs": [
    {
     "data": {
      "text/plain": [
       "'\\ndefine findabase function with input sequence and position\\n    enter pseudo code here\\n    \\n'"
      ]
     },
     "execution_count": 17,
     "metadata": {},
     "output_type": "execute_result"
    }
   ],
   "source": [
    "\"\"\"\n",
    "define findabase function with input sequence and position\n",
    "    enter pseudo code here\n",
    "    \n",
    "\"\"\""
   ]
  },
  {
   "cell_type": "markdown",
   "metadata": {},
   "source": [
    "# <font color=red> Question 6 </font>\n",
    "Write a function that will return the base present given a sequence and position (1-based such that the sequence AGG has position A=1, G=2, G=3). If the position is not in the sequence, the program should not throw an error but should print \"There is no base at that position\". Use your function to query the sequence for positions 0, 1, 55, 105, 127, 205, 705\n",
    "\n",
    "(4 points)"
   ]
  },
  {
   "cell_type": "code",
   "execution_count": 18,
   "metadata": {},
   "outputs": [
    {
     "name": "stdout",
     "output_type": "stream",
     "text": [
      "No answer\n",
      "No answer\n",
      "No answer\n",
      "No answer\n",
      "No answer\n",
      "No answer\n",
      "No answer\n"
     ]
    }
   ],
   "source": [
    "seq = ('TAACCCCTCAGCTTTATTTCTAGTTACAGTTACAACAAACTATCCCAAACCATAAATCTT'+\n",
    "'AATATTTTAGGTGTCAAAAAATGAGGATCTCCAAATGAGAGTTTGGTACCATGACTTGTA'+\n",
    "'ACTCCACTACCCTGATCTGCAATCTTGTTCTTAGAAGTGACGCATACTCTATATGGCCCG'+\n",
    "'ACGCGACGCGCCAAAAAATGAAAAAAGAAGCAGCGACTCATTTTTATGGAAGGACAAAGT'+\n",
    "'GCTGCGAAGTCATACGCTTCCAATTTCATTATTGTTTATTGGACATACTCTGTTAGCTTT'+\n",
    "'ATTACCGTCCACGCTTTTTCTACAATAGTGTAAAAGTTTCTTTCTTATGTTCATCGTATT'+\n",
    "'CATAAAATGCTTCACGAACACCGTCATTGATCAAATAGGTTTATAATATTAATATACATT')\n",
    "# i is the position you want, sequence is the input sequence.\n",
    "\n",
    "def findpos( i, sequence ):\n",
    "    # replace code below\n",
    "    print(\"No answer\")\n",
    "findpos( 0, seq)\n",
    "findpos( 1, seq)\n",
    "findpos( 55, seq)\n",
    "findpos( 105, seq)\n",
    "findpos( 127, seq)\n",
    "findpos( 205, seq)\n",
    "findpos( 705, seq)"
   ]
  },
  {
   "cell_type": "code",
   "execution_count": null,
   "metadata": {},
   "outputs": [],
   "source": []
  }
 ],
 "metadata": {
  "kernelspec": {
   "display_name": "Python 3",
   "language": "python",
   "name": "python3"
  },
  "language_info": {
   "codemirror_mode": {
    "name": "ipython",
    "version": 3
   },
   "file_extension": ".py",
   "mimetype": "text/x-python",
   "name": "python",
   "nbconvert_exporter": "python",
   "pygments_lexer": "ipython3",
   "version": "3.6.7"
  }
 },
 "nbformat": 4,
 "nbformat_minor": 4
}
