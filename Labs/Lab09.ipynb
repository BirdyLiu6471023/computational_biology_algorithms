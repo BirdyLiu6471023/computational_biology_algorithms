{
 "cells": [
  {
   "cell_type": "markdown",
   "metadata": {},
   "source": [
    "# Lab 09 Motif Finding\n",
    "\n",
    "The goal of Lab 09 | Motif Finding is to use position weight matrices to find transcription factor binding sites (TFBS) in a sequence. The lab is divided into the following sections:\n",
    "1. Position specific scoring matrices\n",
    "2. Expectation maximization algorithm\n",
    "\n",
    "## Assignment\n",
    "Follow the instructions in this document and answer the questions in the cell below each question. Submit your answers by uploading a PDF file to gradescope. To generate the pdf, first export the notebook as HTML: >File, >Export to ..., >HTML. Then, open the HTML in a browser and use your browser to print to PDF.\n",
    "\n",
    "Check to make sure all your cells have been run and the **results** displayed in the PDF file.   \n",
    "\n",
    "Reminder, provide comments for any code you write to ensure partial credit.\n",
    "\n",
    "## Position specific scoring matrices\n",
    "\n",
    "A **position weight matrix (PWM)**, also known as a position-specific weight matrix (PSWM) or position-specific scoring matrix (PSSM), is a commonly used representation of motifs (patterns) in biological sequences. They can be used for either DNA motifs or protein motifs. PSSM is the term used more often for proteins and PWM more often for DNA. I'll be using PWM in this lab. \n",
    "\n",
    "PWMs are often derived from a set of aligned sequences that are thought to be functionally related and have become an important part of many software tools for computational motif discovery. The position weight matrix was introduced by Gary Stormo and colleagues in 1982 as an alternative to consensus sequences. A **consensus** sequence (or canonical sequence) is the most frequent residues, either nucleotide or amino acid, found at each position in a sequence alignment.\n",
    "\n",
    "Given the following aligned sequences:  \n",
    "```\n",
    "GAGGTAAAC\n",
    "TCCGTAAGT\n",
    "CAGGTTGGA\n",
    "ACAGTCAGT\n",
    "TAGGTCATT\n",
    "TAGGTACTG\n",
    "ATGGTAACT\n",
    "CAGGTATAC\n",
    "TGTGTGAGT\n",
    "AAGGTAAGT\n",
    "```\n",
    "The consensus sequence is:<br>\n",
    "```\n",
    "TAGGTAAGT\n",
    "```\n"
   ]
  },
  {
   "cell_type": "markdown",
   "metadata": {},
   "source": [
    "A PWM can be generated such that each row represents four bases and each column represents positions.<br>\n",
    " -  In the first step of constructing a PWM, a position frequency matrix (PFM) is created by counting the occurrences of each nucleotide at each position. The PFM for the aligned sequences above is show below.\n",
    "\n",
    "<img src=\"images/PFM.png\" > \n",
    "\n"
   ]
  },
  {
   "cell_type": "markdown",
   "metadata": {},
   "source": [
    " -  From the PFM, a position probability matrix (PPM) can now be created by dividing the former nucleotide count at each position by the number of sequences, thereby normalising the values.  \n",
    " \n",
    " <img src=\"images/PPM.png\" > \n",
    "\n"
   ]
  },
  {
   "cell_type": "markdown",
   "metadata": {},
   "source": [
    "- Finally, the PPM in combination with a null or background model can be used to obtain the PWM, which is defined as the log2 likelihood under the motif compared to a background model.\n",
    "\n",
    "$ {PWM}_{b,i} = log_2( {PPM}_{b,i}/P(b)) $  \n",
    "where *i* is the position, *b* is the base, and $P(b)$ is the probability of base *b* in the background model.  \n",
    "\n",
    "<img src=\"images/PWM.png\" > \n"
   ]
  },
  {
   "cell_type": "markdown",
   "metadata": {},
   "source": [
    "# <font color=red> Question 1 </font> \n",
    "Calculate the PWM using the PFM of the motif and the background frequencies listed below.\n",
    "<br>\n",
    "(3 points)"
   ]
  },
  {
   "cell_type": "code",
   "execution_count": 1,
   "metadata": {},
   "outputs": [],
   "source": [
    "# Question 1\n",
    "import numpy as np\n",
    "# The PFM below is for rows = [A,C,G,T] and three positions (columns)\n",
    "PFM = np.matrix([\n",
    "    [ 124,812,331],\n",
    "    [ 132, 62,360],\n",
    "    [  39,100,151],\n",
    "    [ 705, 26,158]])\n",
    "# bj is the background frequencies for A, C, G, T\n",
    "bj = np.array([.13, .40, .40, .07])\n",
    "\n",
    "# Help: two ways to divide each matrix row by vector\n",
    "# PFM/bj.reshape(4,1)\n",
    "# (PFM.T/bj).T"
   ]
  },
  {
   "cell_type": "code",
   "execution_count": 19,
   "metadata": {},
   "outputs": [],
   "source": [
    "# Answer\n"
   ]
  },
  {
   "cell_type": "markdown",
   "metadata": {},
   "source": [
    "### Probability under a motif model\n",
    "Both PPMs and PWMs assume statistical independence between positions in the motif, as the probabilities for each position are calculated independently of other positions. From the definition above, it follows that the sum of values for a particular position in a PPM (that is, summing over all symbols) is 1. Each column can therefore be regarded as an independent multinomial distribution.  \n",
    "\n",
    "\n",
    "The **multinomial distribution** is a generalization of the binomial distribution.  For *n* independent trials each of which leads to a success for exactly one of *k* categories, with each category having a given fixed success probability, the multinomial distribution gives the probability of any particular combination of numbers of successes for the various categories.  \n",
    "\n",
    "\n",
    "Calculating the probability of a sequence given a PPM can be achieved by multiplying the relevant probabilities at each position.\n",
    "\n",
    "Using the PPM, we can calculate the probability of a sequence under the motif model above.<br>\n",
    "\n",
    "For example, P(\"GGGGGGGGG\") = 0, because P(G) at the 5th position is 0.  \n",
    "\n",
    "In practice this doesn't make sense. Because of the small sample size (10), there are zeros in our matrix. If we believe this is just a sample size issue, we should add pseudocounts.  \n",
    "\n",
    "\n",
    "A **pseudocount** is an amount (not necessarily an integer, despite its name) added to the number of observed cases in order to change the expected probability in a model of those data, when not known to be zero.  \n",
    "\n",
    "A common pseudocount is derived from the Laplace smoothing formula, where d is the number of states (DNA = 4):  \n",
    "\n",
    "$\n",
    "\\begin{align}\n",
    "\\hat{\\theta}_i = \\frac {x_i + \\alpha} {N + \\alpha d} \\;\\;\\;(i=1,...d)\n",
    "\\end{align}\n",
    "$\n"
   ]
  },
  {
   "cell_type": "markdown",
   "metadata": {},
   "source": [
    "Lets add pseudocounts to derive a PPM without zeros using $\\alpha$ = 0.1 we get:"
   ]
  },
  {
   "cell_type": "code",
   "execution_count": 3,
   "metadata": {},
   "outputs": [
    {
     "name": "stdout",
     "output_type": "stream",
     "text": [
      "[[0.298 0.587 0.106 0.01  0.01  0.587 0.683 0.202 0.106]\n",
      " [0.202 0.202 0.106 0.01  0.01  0.202 0.106 0.106 0.202]\n",
      " [0.106 0.106 0.683 0.971 0.01  0.106 0.106 0.49  0.106]\n",
      " [0.394 0.106 0.106 0.01  0.971 0.106 0.106 0.202 0.587]]\n"
     ]
    }
   ],
   "source": [
    "import numpy as np\n",
    "PFM = np.matrix([\n",
    "    [ 3,6,1, 0, 0,6,7,2,1],\n",
    "    [ 2,2,1, 0, 0,2,1,1,2],\n",
    "    [ 1,1,7,10, 0,1,1,5,1],\n",
    "    [ 4,1,1, 0,10,1,1,2,6]])\n",
    "alpha = 0.1\n",
    "PPM = (PFM + alpha) / (10 + alpha*4)\n",
    "print(np.matrix.round(PPM,3))"
   ]
  },
  {
   "cell_type": "markdown",
   "metadata": {},
   "source": [
    "Now lets calculate P(\"GGGGGGGGG\"). And, lets work in $log_2$ space to avoid overflow."
   ]
  },
  {
   "cell_type": "code",
   "execution_count": 4,
   "metadata": {},
   "outputs": [
    {
     "name": "stdout",
     "output_type": "stream",
     "text": [
      "4.138217097404233e-08\n"
     ]
    }
   ],
   "source": [
    "seq = \"GGGGGGGGG\"\n",
    "def scoreP(PPM,seq):\n",
    "    # Nucleotide map, assumes PPM is in the order ACGT\n",
    "    nucmap = { 'A':0, 'C':1, 'G':2, 'T':3 }\n",
    "    scoreP = 0\n",
    "    # Iterate over each position\n",
    "    for index, letter in enumerate(seq):\n",
    "        scoreP += np.log2(PPM[nucmap[letter],index])\n",
    "    # Return probability score by moving from log2 to normal probability space\n",
    "    return( 2**scoreP )\n",
    "\n",
    "print(scoreP(PPM,seq))"
   ]
  },
  {
   "cell_type": "markdown",
   "metadata": {},
   "source": [
    "To obtain the PWM score of our sequence, or the log likelihood of the motif model versus the background model, lets use a background model of equal nucleotide frequencies:"
   ]
  },
  {
   "cell_type": "code",
   "execution_count": 5,
   "metadata": {},
   "outputs": [
    {
     "data": {
      "text/plain": [
       "-6.526415425855371"
      ]
     },
     "execution_count": 5,
     "metadata": {},
     "output_type": "execute_result"
    }
   ],
   "source": [
    "PWM = np.log2(PPM) - np.log2(0.25)\n",
    "def scorePWM(PWM,seq):\n",
    "    # Nucleotide map, assumes PWM is in the order ACGT\n",
    "    nucmap = { 'A':0, 'C':1, 'G':2, 'T':3 }\n",
    "    scorePWM = 0\n",
    "    # Iterate over each position\n",
    "    for index, letter in enumerate(seq):\n",
    "        scorePWM += PWM[nucmap[letter],index]\n",
    "    # Return PWM, no need to log2 since PWM is already in that form\n",
    "    return( scorePWM )\n",
    "scorePWM(PWM,\"GGGGGGGGG\")"
   ]
  },
  {
   "cell_type": "markdown",
   "metadata": {},
   "source": [
    "The PWM matrix and the score for the consensus sequence is:"
   ]
  },
  {
   "cell_type": "code",
   "execution_count": 6,
   "metadata": {},
   "outputs": [
    {
     "name": "stdout",
     "output_type": "stream",
     "text": [
      "[[ 0.254  1.23  -1.241 -4.7   -4.7    1.23   1.449 -0.308 -1.241]\n",
      " [-0.308 -0.308 -1.241 -4.7   -4.7   -0.308 -1.241 -1.241 -0.308]\n",
      " [-1.241 -1.241  1.449  1.958 -4.7   -1.241 -1.241  0.972 -1.241]\n",
      " [ 0.657 -1.241 -1.241 -4.7    1.958 -1.241 -1.241 -0.308  1.23 ]]\n"
     ]
    },
    {
     "data": {
      "text/plain": [
       "12.134149100521359"
      ]
     },
     "execution_count": 6,
     "metadata": {},
     "output_type": "execute_result"
    }
   ],
   "source": [
    "print(np.matrix.round(PWM,3))\n",
    "scorePWM(PWM,\"TAGGTAAGT\")\n"
   ]
  },
  {
   "cell_type": "markdown",
   "metadata": {},
   "source": [
    "### Motif scan\n",
    "\n",
    "Motif models are used to represent the probability of a transcription factor binding a DNA sequence. Thus, we can scan a sequence for positions that match a given motif model, i.e. potential transcription factor binding sites."
   ]
  },
  {
   "cell_type": "markdown",
   "metadata": {},
   "source": [
    "# <font color=red> Question 2 </font> \n",
    "Write a function that takes as input a PWM and a sequence, and outputs the highest scoring subsequence, its PWM score and its position. Apply the function using the PWM and DNA sequence below and print the output of the function. Put differently, given a long sequence, calculate the PWM score for each window (size = # columns of PWM) in the sequence, sliding the window across the entire sequence, and output the highest scoring window (subsequence), its position, and its score. If there are two top hits with the same score, you only need to output one of them.  \n",
    "\n",
    "(3 points)"
   ]
  },
  {
   "cell_type": "code",
   "execution_count": 7,
   "metadata": {},
   "outputs": [],
   "source": [
    "# Question 2 data\n",
    "sequence = \"TTCATTGATGGTGTGATTCTTCGAAACAGCAAAGAATAAAAGAAACTGGAAGGGAAGAGAGAAAAAAAAAGGAAAGGAAGAGGAACACAAACCCCCTATATATATATAGAAGTACATCAGTCTACAAATATTCGAGTGTATAAGTATGTATATACATATATGTTTATGCGTCTGTATCAGTACATGGATGGAGATATGCTGTGCCTACATTCATGGAATATTCAGATTGGGGCATGTACATAAACAGACATAATTAGTATTTTGGCCGTAGGTCCTGCCCTACCCTGCAAGGTTCTTCTTGTTATCAGCACTGGATGGAGGGGTGAAGCAGATAAAACCCCGGTGTAGTTGGCGATAGGCAGAGTGCAGGCACGATGATAGCGAGGGGTTGAAAACGTCCCATTTTCCTTTGATAGGAAATATCGGGCAGAAGTTGAAAAGCGACAAAAGCGACAGGCACACGCGAACCGGCTAGGCCACCCAAACGTCATAGCTAGCGCAATGAAAAAAACTAACGTCGCTTCCCTTTTGGTTTGATGATGTTTCAACTCGCAGCGCGGGTACCCGGGCTGCCGGAACAAAGCCGTGCAAGTAGCGGCTGTCGTCACGCACCATGGGTACCATCTTGTGCCGTGCCGTGCTACCTCAGATTTAGGACCCTGGAGATTTGGCAGACATGACAAGCAATTTTGACAAACTTGTGACAAGATTTGAACCGCGCGGGAATTCACATTGCAGTATGGACGGACATCCGGCCATCGCGCGCGGGCCCGGTATTTGATCTCCGTTTTAGAAGCACAGAAAAAAATAATATGATGTTATGATGTTTAATAGATGGATTCATATCGTCCGGGTAAAAACGCTTTTGGAGAAATCAAGGAAAATCGCCGAGATCACTAGGAAATACTATTACTATTGAAAAAAAAAAAAAGAAAAAAAAAGGAAAGACGATAATATTTTTGGAAAGAACGCCACCACACGCACTTTACACCCTTCAATCATGAACAATATTCGGGCCTTGCTGGACTCGATACAATCTGGAGTTCAGACCGTTTCTCCAGAAAAGCACCAACAGACGAT\"\n",
    "PWM = np.matrix([\n",
    "    [ 0.254,  1.23,  -1.241, -4.7,   -4.7,    1.23,   1.449, -0.308, -1.241],\n",
    "    [-0.308, -0.308, -1.241, -4.7,   -4.7,   -0.308, -1.241, -1.241, -0.308],\n",
    "    [-1.241, -1.241,  1.449,  1.958, -4.7,   -1.241, -1.241,  0.972, -1.241],\n",
    "    [ 0.657, -1.241, -1.241, -4.7,    1.958, -1.241, -1.241, -0.308,  1.23 ]])\n"
   ]
  },
  {
   "cell_type": "code",
   "execution_count": 20,
   "metadata": {},
   "outputs": [],
   "source": [
    "# Answer\n"
   ]
  },
  {
   "cell_type": "markdown",
   "metadata": {},
   "source": [
    "### Sequence Logos\n",
    "The PWM can be represented by the following sequence logo:\n",
    "\n",
    "<img src=\"images/logo.png\" width = 400> \n",
    "\n",
    "The sequence logo consists of a stack of letters at each position. The relative sizes of the letters indicate their frequency in the sequences. The total height of the letters depicts the information content of the position, in bits. The information encoded in one \"fair\" coin flip is log2(2/1) = 1 bit, and in a single base pair is log2(4/1) = 2 bits. Thus, the maximum height is 2 (bits) if there is only a single base at that position.\n",
    "\n",
    "The information content of position *i* is given by:  \n",
    "$ IC_i = log_2(4) - (H_i ) $  \n",
    "where $ H_i $ is entropy.  \n",
    "\n",
    "$\n",
    "\\begin{align}\n",
    "H_i = - \\sum_{b=A,C,G,T} f_b log_2(f_b)   \n",
    "\\end{align}\n",
    "$  \n",
    "$\n",
    "\\begin{align}\n",
    "IC_i = log_2(4) + \\sum_{b=A,C,G,T} f_b log_2(f_b)  \n",
    "\\end{align}\n",
    "$  \n",
    "\n",
    "where $f_b $ is the frequency of base *b*. Thus, a position with equal base frequencies will have IC = 0 and a position with only 'A' will have IC = 2.  \n",
    "\n",
    "The information content of a motif can be found by taking the sum of $ IC_i $ over all positions.\n",
    "\n",
    "Often it is desirable to calculate the relative information content, also known as the Kullback-Leibler distance. The information content (IC) of a motif accounting for background frequencies can be written as:  \n",
    "\n",
    "$\n",
    "\\begin{align}\n",
    "IC = \\sum_{i=1}^L \\sum_{b=A,C,G,T} f_{b,i} log_2(f_{b,i}/p_b)  \n",
    "\\end{align}\n",
    "$   \n",
    "where $p_b$ is the background frequency of base $b$ in the genome. This can also be rewritten as:    \n",
    "$\n",
    "\\begin{align}\n",
    "IC = \\sum_{i=1}^L \\sum_{b=A,C,G,T} PPM(b,i)PWM(b,i) \n",
    "\\end{align}\n",
    "$   \n",
    "\n",
    "From this we can see that the information content is the average score of all known sites used to make the PFM. "
   ]
  },
  {
   "cell_type": "markdown",
   "metadata": {},
   "source": [
    "# <font color=red> Question 3 </font> \n",
    "What is the information content of the the following PWM.\n",
    "<br>\n",
    "(3 points)"
   ]
  },
  {
   "cell_type": "code",
   "execution_count": 21,
   "metadata": {},
   "outputs": [],
   "source": [
    "PFM = np.matrix([\n",
    "    [ 3,6,1, 0, 0,6,7,2,1],\n",
    "    [ 2,2,1, 0, 0,2,1,1,2],\n",
    "    [ 1,1,7,10, 0,1,1,5,1],\n",
    "    [ 4,1,1, 0,10,1,1,2,6]])\n",
    "\n",
    "alpha = 0.1\n",
    "PPM = (PFM + alpha) / (10 + alpha*4)\n",
    "PWM = np.log2(PPM) - np.log2(0.25)\n",
    "\n",
    "# Answer\n"
   ]
  },
  {
   "cell_type": "markdown",
   "metadata": {},
   "source": [
    "## Motif discovery\n",
    "\n",
    "In this next section we will find over-represented motifs in a set of sequences. We will start by finding exact sequences, then look for known motifs, and finally learn about the **Expectation Maximumization (EM)** algorithm to identify motifs.\n",
    "\n",
    "\n"
   ]
  },
  {
   "cell_type": "markdown",
   "metadata": {},
   "source": [
    "### Finding words in a sequence\n",
    "\n",
    "Given a sequence, python has built in functions to find a subsequence:\n",
    "\n",
    "`string.find(s, sub[, start[, end]])`<br>\n",
    "`string.find` returns the lowest index in s where the substring sub is found such that sub is wholly contained in s[start:end] or return -1 on failure. Defaults for start and end and interpretation of negative values is the same as for slices.\n",
    "\n",
    "`string.count(s, sub[, start[, end]])` <br>\n",
    "`string.dount` returns the number of (non-overlapping) occurrences of substring sub in string s[start:end]. Defaults for start and end and interpretation of negative values are the same as for slices."
   ]
  },
  {
   "cell_type": "code",
   "execution_count": 10,
   "metadata": {},
   "outputs": [
    {
     "name": "stdout",
     "output_type": "stream",
     "text": [
      "AAAC found at position 11\n",
      "AAAT not found\n"
     ]
    }
   ],
   "source": [
    "seq = \"TTTATTTACTCAAACAGTTCCGTTTCAAAGTGTTTTATATTAACTATATATGCGAAAAGC\"\n",
    "\n",
    "# A function that searches for occurrence of word in sequence, printing what it finds\n",
    "def findword(word, seq):\n",
    "    if seq.find(word)>=0:\n",
    "        print(word,\"found at position\",seq.find(word))\n",
    "    else:\n",
    "        print(word, \"not found\")\n",
    "\n",
    "# Is AAAC found\n",
    "findword(\"AAAC\", seq)\n",
    "# What about AAAG\n",
    "findword(\"AAAT\", seq)"
   ]
  },
  {
   "cell_type": "markdown",
   "metadata": {},
   "source": [
    "# <font color=red> Question 4 </font> \n",
    "Find all 6 bp DNA strings present in at least 13/18 sequences in the fasta file: `metgenes.fasta`.\n",
    "The presence/absence of the word should be tabulated for each sequence. Print the word and how many sequences it occurs in. For example, you should get these <br>\n",
    "```\n",
    "AAGAAA 13\n",
    "ACGTGA 13\n",
    "```\n",
    "\n",
    "(4 points)"
   ]
  },
  {
   "cell_type": "markdown",
   "metadata": {},
   "source": [
    "Helpful commands:"
   ]
  },
  {
   "cell_type": "code",
   "execution_count": 11,
   "metadata": {},
   "outputs": [
    {
     "name": "stdout",
     "output_type": "stream",
     "text": [
      "['AA', 'AC', 'AG', 'AT', 'CA', 'CC', 'CG', 'CT', 'GA', 'GC', 'GG', 'GT', 'TA', 'TC', 'TG', 'TT']\n"
     ]
    }
   ],
   "source": [
    "# To iterate words from an alphabet\n",
    "from itertools import product\n",
    "alphabet = [\"A\", \"C\", \"G\", \"T\"]\n",
    "keywords = [''.join(i) for i in product(alphabet, repeat = 2)]\n",
    "print(keywords)"
   ]
  },
  {
   "cell_type": "code",
   "execution_count": 22,
   "metadata": {},
   "outputs": [],
   "source": [
    "# Answer\n"
   ]
  },
  {
   "cell_type": "markdown",
   "metadata": {},
   "source": [
    "### Finding motifs in a sequence\n",
    "\n",
    "Base on the pattern of words you can begin to get an idea of what motifs are present in most of the sequences. Here are five of the words aligned into two motifs:\n",
    "\n",
    "Motif 1 supported by two overlapping words<br>\n",
    "```\n",
    "CACGTG\n",
    " ACGTGA\n",
    "```\n",
    "Motif 2 supported by three overlapping words<br>\n",
    "```\n",
    "ATTTTT\n",
    " TTTTTA\n",
    " TTTTTC\n",
    "```\n",
    "\n",
    "Next, we will use the previous function you defined to scan a sequence using a PWM and return the top hit."
   ]
  },
  {
   "cell_type": "markdown",
   "metadata": {},
   "source": [
    "# <font color=red> Question 5 </font> \n",
    "For each of the 18 sequences in `metgenes.fasta`, find the best match to the following PWM. Print the gene name, PWM score, sequence and position. For example, the first two genes should look like this: <br>\n",
    "```\n",
    "SAM2   20.9629  TTTTTTT  505\n",
    "MET30  20.9629  TTTTTTT  41\n",
    "```\n",
    "\n",
    "(3 points)"
   ]
  },
  {
   "cell_type": "code",
   "execution_count": 13,
   "metadata": {},
   "outputs": [],
   "source": [
    "# PWM for Question 5\n",
    "PFM = np.matrix([\n",
    "    [  30, 10, 10, 10, 10, 10, 30],\n",
    "    [  30, 10, 10, 10, 10, 10, 30],\n",
    "    [  30, 10, 10, 10, 10, 10, 30],\n",
    "    [  30, 90, 90, 90, 90, 90, 30]])\n",
    "PPM = PFM / np.sum(PFM,axis=0)\n",
    "PWM = np.log2(PPM) - np.log2(bj.reshape(4,1))"
   ]
  },
  {
   "cell_type": "code",
   "execution_count": 24,
   "metadata": {},
   "outputs": [],
   "source": [
    "# Answer\n"
   ]
  },
  {
   "cell_type": "markdown",
   "metadata": {},
   "source": [
    "## Expectation Maximization\n",
    "\n",
    "The expectation–maximization (EM) algorithm is an iterative method to find maximum likelihood estimates of parameters in a statistical model, where the model depends on unobserved latent variables. The EM iteration alternates between performing an expectation (E) step, which creates a function for the expectation of the log-likelihood evaluated using the current estimate for the parameters, and a maximization (M) step, which computes parameters maximizing the expected log-likelihood found on the E step. These parameter-estimates are then used to determine the distribution of the latent variables in the next E step.\n",
    "\n",
    "### Finding motifs\n",
    "\n",
    "In motif finding, the goal is to find a motif (PWM) that is over-represented in a set of sequences. While this is trivial to do when looking for DNA words, it is more complicated when we incorporate degeneracy that PWMs naturally handle. \n",
    "\n",
    "In motif finding there are two sets of unknown quantities:\n",
    "- we don't know the PWM\n",
    "- we don't know the positions of the motif\n",
    "\n",
    "Finding the maximum likelihood of the PWM and the motif positions is generally not tractable analytically (through derivatives) or computationally through an exhaustive search.\n",
    "\n",
    "The **EM Algorithm** provides a simple, efficient means of finding the PWM and the positions of PWM matches. It does so through a greedy algorithm, and hence only gaurantees a local optimum. However, by using multiple starting points it works pretty well.\n",
    "\n",
    "Given the statistical model which generates a set $ X $ of observed data, a set of unobserved latent data or missing values $ Z $, and a vector of unknown parameters $ \\theta $, along with a likelihood function:  \n",
    "\n",
    "$\n",
    "\\begin{align}\n",
    "L( \\theta ; X, Z) =  P(X,Z | \\theta ) \n",
    "\\end{align}\n",
    "$  \n",
    "\n",
    "the maximum likelihood estimate (MLE) of the unknown parameters is determined by the marginal likelihood of the observed data:  \n",
    "\n",
    "$\n",
    "\\begin{align}\n",
    "L(\\theta; X) = P(X | \\theta) = \\int P(X, Z | \\theta) dZ \n",
    "\\end{align}\n",
    "$  \n",
    "\n",
    "In the case of motif finding, $X$ is the observed sequences, $Z$ is the unknown motif positions, and $\\theta$ is the motif model (PWM).\n",
    "\n",
    "The EM algorithm seeks to find the MLE of the marginal likelihood by iteratively applying these two steps:\n",
    "\n",
    "- Expectation step (E step): Calculate the expected value of the log likelihood function, with respect to the conditional distribution of $Z$ given $X$ under the current estimate of the parameters $ \\theta $:  \n",
    "$\n",
    "\\begin{align}\n",
    "Q(\\theta | \\theta^t) = E_{Z|X, \\theta^t} [ log(L(\\theta; X, Z)) ]\n",
    "\\end{align}\n",
    "$  \n",
    "\n",
    "- Maximization step (M step): Find the parameters that maximize this quantity:   \n",
    "$\n",
    "\\begin{align}\n",
    "\\theta^{t+1} = argmax \\; Q(\\theta | \\theta^t)  \n",
    "\\end{align}\n",
    "$\n",
    "\n",
    "In the context of motif finding, the Expectation of Z can be found by calculating the probability of the motif at each position. Initial values of $ \\theta $, the PWM, can be obtained by initializing with random values or with an over-represented DNA word.\n",
    "\n",
    "\n",
    "Once the probability of a motif at each position is known, we can estimate a new PWM based on these probabilities. Its important to note that we don't pick the most likely position of the PWM in each sequence. Rather, when we update the PWM we use all positions weighted by their probability of being a motif.\n",
    "\n",
    "Thus, the **EM algorithm** is an iterative proceedure:\n",
    "\n",
    " - First, initialize the parameters $ \\theta $ to some random values.\n",
    " - Second, compute the probability of each possible value of $ Z$, given $\\theta$.\n",
    " - Third, use the just-computed values of $ Z$ to compute a better estimate for the parameters $\\theta$.   \n",
    "\n",
    "Iterate steps 2 and 3 until convergence."
   ]
  },
  {
   "cell_type": "markdown",
   "metadata": {},
   "source": [
    "# <font color=red> Question 6 </font> \n",
    "Using the 18 sequences in `metgenes.fasta`, calculate $Z[i,j]$, the probability of sequence *i* with a motif at position *j*. Use the PPM below, but remember to work in log space to avoid overflow. Using the Z matrix, report the motif sequence, position, and log probability ($Z[i,j]$) for the most likely position in each gene sequence.  \n",
    "Use the background model given below for all other positions.  \n",
    "\n",
    "(4 points)"
   ]
  },
  {
   "cell_type": "code",
   "execution_count": 15,
   "metadata": {},
   "outputs": [
    {
     "name": "stdout",
     "output_type": "stream",
     "text": [
      "-1112.9983247624984 254 CCACGTGA\n"
     ]
    }
   ],
   "source": [
    "# Starting point\n",
    "\n",
    "# Motif model\n",
    "PFM = np.matrix([\n",
    "    [ 25, 10, 70, 10, 10, 10, 10, 25],\n",
    "    [ 25, 70, 10, 70, 10, 10, 10, 25],\n",
    "    [ 25, 10, 10, 10, 70, 10, 70, 25],\n",
    "    [ 25, 10, 10, 10, 10, 70, 10, 25]])\n",
    "PPM = (PFM) / (100)\n",
    "\n",
    "# Background model\n",
    "BGM = np.array([.30, .20, .20, .30])\n",
    "\n",
    "# Lets calculate Z[i,j] for the first sequence. Then print out position 252:260 (j=251:259)\n",
    "# This is equivalent to calculating Z[1,251:259]\n",
    "\n",
    "# Nucleotide mapping to rows\n",
    "nucmap = { 'A': 0, 'C': 1, 'G': 2, 'T': 3}\n",
    "\n",
    "# Window size = length of motif\n",
    "W = PPM.shape[1]\n",
    "\n",
    "# Function to calculate all Zs\n",
    "def Zfunction(BGM,PPM,seq):\n",
    "    # Window size = length of motif\n",
    "    W = PPM.shape[1]\n",
    "    # Nucleotide mapping to rows\n",
    "    nucmap = { 'A': 0, 'C': 1, 'G': 2, 'T': 3}\n",
    "    Z = np.zeros(len(seq)-W)\n",
    "    for j in range(len(seq)-W): # Can't calculate Z at positions within W of the end of the sequence\n",
    "        # use background model unless within the motif, which starts at j\n",
    "        for k in range(len(seq)):\n",
    "            if (k < j or k >= j + W):\n",
    "                Z[j] += np.log2(BGM[nucmap[seq[k]]])\n",
    "            else:\n",
    "                Z[j] += np.log2(PPM[nucmap[seq[k]],k-j])\n",
    "    \n",
    "    return(Z)\n",
    "Z0 = Zfunction(BGM,PPM,fastaSeq[0])\n",
    "\n",
    "# Find maximum Z and print motif, position and log2 probability\n",
    "maxz = np.amin(Z0)\n",
    "for k in range(len(fastaSeq[0])-W):\n",
    "    if (maxz < Z0[k]):\n",
    "        maxz = Z0[k]\n",
    "        maxk = k\n",
    "print(maxz,maxk+1,fastaSeq[0][maxk:maxk+PPM.shape[1]])"
   ]
  },
  {
   "cell_type": "code",
   "execution_count": 25,
   "metadata": {},
   "outputs": [],
   "source": [
    "# Answer\n"
   ]
  },
  {
   "cell_type": "markdown",
   "metadata": {},
   "source": [
    "# <font color=red> Bonus Question 1 </font> \n",
    "Starting with the following PPM, go through 5 iterations of:\n",
    "- finding the most likely positions in each sequence given the PPM\n",
    "- updating the PPM using those positions.\n",
    "\n",
    "\n",
    "Use a pseudocount of 1 at each step. Print the PFM at each step and the final PPM. (Note that while this is a greedy algorithm it is not the EM algorithm).  \n",
    "\n",
    "(2 points)"
   ]
  },
  {
   "cell_type": "code",
   "execution_count": 17,
   "metadata": {},
   "outputs": [],
   "source": [
    "# Starting PPM and background model\n",
    "PFM = np.matrix([\n",
    "    [ 15, 10, 20, 10, 10, 10, 10, 15],\n",
    "    [ 15, 20, 10, 20, 10, 10, 10, 15],\n",
    "    [ 15, 10, 10, 10, 20, 10, 20, 15],\n",
    "    [  5, 10, 10, 10, 10, 20, 10,  5]])\n",
    "PPM = (PFM + 1) / (50+ 1*4)\n",
    "BGM = np.array([.25, .25, .25, .25])"
   ]
  },
  {
   "cell_type": "code",
   "execution_count": 26,
   "metadata": {},
   "outputs": [],
   "source": [
    "# Answer\n"
   ]
  },
  {
   "cell_type": "code",
   "execution_count": null,
   "metadata": {
    "collapsed": true,
    "jupyter": {
     "outputs_hidden": true
    }
   },
   "outputs": [],
   "source": []
  }
 ],
 "metadata": {
  "kernelspec": {
   "display_name": "Python 3",
   "language": "python",
   "name": "python3"
  },
  "language_info": {
   "codemirror_mode": {
    "name": "ipython",
    "version": 3
   },
   "file_extension": ".py",
   "mimetype": "text/x-python",
   "name": "python",
   "nbconvert_exporter": "python",
   "pygments_lexer": "ipython3",
   "version": "3.6.7"
  }
 },
 "nbformat": 4,
 "nbformat_minor": 4
}
